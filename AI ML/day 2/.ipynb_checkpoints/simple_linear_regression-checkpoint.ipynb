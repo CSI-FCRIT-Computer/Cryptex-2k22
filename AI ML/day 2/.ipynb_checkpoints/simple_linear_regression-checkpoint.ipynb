{
 "cells": [
  {
   "cell_type": "markdown",
   "metadata": {
    "id": "l_LulNCC8z96"
   },
   "source": [
    "# Simple Linear Regression"
   ]
  },
  {
   "cell_type": "markdown",
   "metadata": {},
   "source": [
    "<hr>"
   ]
  },
  {
   "cell_type": "markdown",
   "metadata": {},
   "source": [
    "## What is Linear Regression?"
   ]
  },
  {
   "cell_type": "markdown",
   "metadata": {},
   "source": [
    "Regression models describe the relationship between variables by fitting a line to the observed data. Linear regression models use a straight line and allows you to estimate how a dependent variable changes as the independent variable(s) change."
   ]
  },
  {
   "cell_type": "markdown",
   "metadata": {},
   "source": [
    "<hr>"
   ]
  },
  {
   "cell_type": "markdown",
   "metadata": {},
   "source": [
    "<img src=\"data:image/jpeg;base64,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\" width=\"400px\" >"
   ]
  },
  {
   "cell_type": "markdown",
   "metadata": {},
   "source": [
    "<hr>"
   ]
  },
  {
   "cell_type": "markdown",
   "metadata": {
    "id": "xpXdowrE9DxW"
   },
   "source": [
    "## Importing the libraries"
   ]
  },
  {
   "cell_type": "code",
   "execution_count": 1,
   "metadata": {
    "id": "nhKd4hWx9GFt"
   },
   "outputs": [],
   "source": [
    "import numpy as np\n",
    "import matplotlib.pyplot as plt\n",
    "import pandas as pd"
   ]
  },
  {
   "cell_type": "markdown",
   "metadata": {},
   "source": [
    "<hr>"
   ]
  },
  {
   "cell_type": "markdown",
   "metadata": {},
   "source": [
    "<img src=\"https://i.morioh.com/2019/12/07/45408f434947.jpg\" width=\"400px\">"
   ]
  },
  {
   "cell_type": "markdown",
   "metadata": {},
   "source": [
    "<hr>"
   ]
  },
  {
   "cell_type": "markdown",
   "metadata": {
    "id": "6JhpWJi59J1p"
   },
   "source": [
    "## Importing the dataset"
   ]
  },
  {
   "cell_type": "code",
   "execution_count": 9,
   "metadata": {
    "id": "f8GfYDZ59O18",
    "scrolled": true
   },
   "outputs": [
    {
     "name": "stdout",
     "output_type": "stream",
     "text": [
      "    YearsExperience    Salary\n",
      "0               1.1   39343.0\n",
      "1               1.3   46205.0\n",
      "2               1.5   37731.0\n",
      "3               2.0   43525.0\n",
      "4               2.2   39891.0\n",
      "5               2.9   56642.0\n",
      "6               3.0   60150.0\n",
      "7               3.2   54445.0\n",
      "8               3.2   64445.0\n",
      "9               3.7   57189.0\n",
      "10              3.9   63218.0\n",
      "11              4.0   55794.0\n",
      "12              4.0   56957.0\n",
      "13              4.1   57081.0\n",
      "14              4.5   61111.0\n",
      "15              4.9   67938.0\n",
      "16              5.1   66029.0\n",
      "17              5.3   83088.0\n",
      "18              5.9   81363.0\n",
      "19              6.0   93940.0\n",
      "20              6.8   91738.0\n",
      "21              7.1   98273.0\n",
      "22              7.9  101302.0\n",
      "23              8.2  113812.0\n",
      "24              8.7  109431.0\n",
      "25              9.0  105582.0\n",
      "26              9.5  116969.0\n",
      "27              9.6  112635.0\n",
      "28             10.3  122391.0\n",
      "29             10.5  121872.0\n"
     ]
    }
   ],
   "source": [
    "dataset = pd.read_csv('Salary_Data.csv')\n",
    "print(dataset)"
   ]
  },
  {
   "cell_type": "markdown",
   "metadata": {},
   "source": [
    "<hr>"
   ]
  },
  {
   "cell_type": "markdown",
   "metadata": {},
   "source": [
    "<img src=\"https://encrypted-tbn0.gstatic.com/images?q=tbn:ANd9GcTj4pJFss-LWLwqCBybII7C2s7pWVP-NFnkhQ&usqp=CAU\" width=\"400px\">"
   ]
  },
  {
   "cell_type": "markdown",
   "metadata": {},
   "source": [
    "<hr>"
   ]
  },
  {
   "cell_type": "markdown",
   "metadata": {},
   "source": [
    "<img src=\"https://www.memecreator.org/static/images/memes/5018583.jpg\" width=\"400px\">"
   ]
  },
  {
   "cell_type": "markdown",
   "metadata": {},
   "source": [
    "<hr>"
   ]
  },
  {
   "cell_type": "code",
   "execution_count": 12,
   "metadata": {},
   "outputs": [
    {
     "name": "stdout",
     "output_type": "stream",
     "text": [
      "X = [[ 1.1]\n",
      " [ 1.3]\n",
      " [ 1.5]\n",
      " [ 2. ]\n",
      " [ 2.2]\n",
      " [ 2.9]\n",
      " [ 3. ]\n",
      " [ 3.2]\n",
      " [ 3.2]\n",
      " [ 3.7]\n",
      " [ 3.9]\n",
      " [ 4. ]\n",
      " [ 4. ]\n",
      " [ 4.1]\n",
      " [ 4.5]\n",
      " [ 4.9]\n",
      " [ 5.1]\n",
      " [ 5.3]\n",
      " [ 5.9]\n",
      " [ 6. ]\n",
      " [ 6.8]\n",
      " [ 7.1]\n",
      " [ 7.9]\n",
      " [ 8.2]\n",
      " [ 8.7]\n",
      " [ 9. ]\n",
      " [ 9.5]\n",
      " [ 9.6]\n",
      " [10.3]\n",
      " [10.5]]\n",
      "\n",
      "y = [ 39343.  46205.  37731.  43525.  39891.  56642.  60150.  54445.  64445.\n",
      "  57189.  63218.  55794.  56957.  57081.  61111.  67938.  66029.  83088.\n",
      "  81363.  93940.  91738.  98273. 101302. 113812. 109431. 105582. 116969.\n",
      " 112635. 122391. 121872.]\n"
     ]
    }
   ],
   "source": [
    "X = dataset.iloc[:, :-1].values\n",
    "y = dataset.iloc[:, -1].values\n",
    "print(f\"X = {X}\\n\")\n",
    "print(f\"y = {y}\")"
   ]
  },
  {
   "cell_type": "markdown",
   "metadata": {},
   "source": [
    "<hr>"
   ]
  },
  {
   "cell_type": "markdown",
   "metadata": {
    "id": "AyhQaTwP9RzG"
   },
   "source": [
    "## Splitting the dataset into the Training set and Test set"
   ]
  },
  {
   "cell_type": "markdown",
   "metadata": {},
   "source": [
    "<img src=\"https://d33wubrfki0l68.cloudfront.net/c39b2d19183ed14141a8b7b03943442d40efee0d/81e2a/wp-content/uploads/2019/03/train_test_split.png\" width=\"400px\">"
   ]
  },
  {
   "cell_type": "code",
   "execution_count": 3,
   "metadata": {
    "id": "bxOOauiN9VpC"
   },
   "outputs": [],
   "source": [
    "from sklearn.model_selection import train_test_split\n",
    "X_train, X_test, y_train, y_test = train_test_split(X, y, test_size = 1/3, random_state = 0)"
   ]
  },
  {
   "cell_type": "markdown",
   "metadata": {},
   "source": [
    "<hr>"
   ]
  },
  {
   "cell_type": "code",
   "execution_count": 13,
   "metadata": {},
   "outputs": [
    {
     "data": {
      "text/plain": [
       "array([[ 2.9],\n",
       "       [ 5.1],\n",
       "       [ 3.2],\n",
       "       [ 4.5],\n",
       "       [ 8.2],\n",
       "       [ 6.8],\n",
       "       [ 1.3],\n",
       "       [10.5],\n",
       "       [ 3. ],\n",
       "       [ 2.2],\n",
       "       [ 5.9],\n",
       "       [ 6. ],\n",
       "       [ 3.7],\n",
       "       [ 3.2],\n",
       "       [ 9. ],\n",
       "       [ 2. ],\n",
       "       [ 1.1],\n",
       "       [ 7.1],\n",
       "       [ 4.9],\n",
       "       [ 4. ]])"
      ]
     },
     "execution_count": 13,
     "metadata": {},
     "output_type": "execute_result"
    }
   ],
   "source": [
    "X_train"
   ]
  },
  {
   "cell_type": "code",
   "execution_count": 15,
   "metadata": {},
   "outputs": [
    {
     "data": {
      "text/plain": [
       "array([ 56642.,  66029.,  64445.,  61111., 113812.,  91738.,  46205.,\n",
       "       121872.,  60150.,  39891.,  81363.,  93940.,  57189.,  54445.,\n",
       "       105582.,  43525.,  39343.,  98273.,  67938.,  56957.])"
      ]
     },
     "execution_count": 15,
     "metadata": {},
     "output_type": "execute_result"
    }
   ],
   "source": [
    "y_train"
   ]
  },
  {
   "cell_type": "code",
   "execution_count": 14,
   "metadata": {},
   "outputs": [
    {
     "data": {
      "text/plain": [
       "array([[ 1.5],\n",
       "       [10.3],\n",
       "       [ 4.1],\n",
       "       [ 3.9],\n",
       "       [ 9.5],\n",
       "       [ 8.7],\n",
       "       [ 9.6],\n",
       "       [ 4. ],\n",
       "       [ 5.3],\n",
       "       [ 7.9]])"
      ]
     },
     "execution_count": 14,
     "metadata": {},
     "output_type": "execute_result"
    }
   ],
   "source": [
    "X_test"
   ]
  },
  {
   "cell_type": "code",
   "execution_count": 16,
   "metadata": {},
   "outputs": [
    {
     "data": {
      "text/plain": [
       "array([ 37731., 122391.,  57081.,  63218., 116969., 109431., 112635.,\n",
       "        55794.,  83088., 101302.])"
      ]
     },
     "execution_count": 16,
     "metadata": {},
     "output_type": "execute_result"
    }
   ],
   "source": [
    "y_test"
   ]
  },
  {
   "cell_type": "markdown",
   "metadata": {},
   "source": [
    "<hr>"
   ]
  },
  {
   "cell_type": "markdown",
   "metadata": {
    "id": "ZijQwFMQ9itx"
   },
   "source": [
    "## Training the Simple Linear Regression model on the Training set"
   ]
  },
  {
   "cell_type": "code",
   "execution_count": 4,
   "metadata": {
    "colab": {
     "base_uri": "https://localhost:8080/",
     "height": 34
    },
    "id": "B4Aj_8YJ9l7J",
    "outputId": "15363111-2a76-4774-88ad-48db22159e9d"
   },
   "outputs": [
    {
     "data": {
      "text/plain": [
       "LinearRegression()"
      ]
     },
     "execution_count": 4,
     "metadata": {},
     "output_type": "execute_result"
    }
   ],
   "source": [
    "from sklearn.linear_model import LinearRegression\n",
    "regressor = LinearRegression()\n",
    "regressor.fit(X_train, y_train)"
   ]
  },
  {
   "cell_type": "markdown",
   "metadata": {},
   "source": [
    "<hr>"
   ]
  },
  {
   "cell_type": "markdown",
   "metadata": {},
   "source": [
    "<img src=\"https://miro.medium.com/max/500/0*vQgBB3dsG1tZBPCu.jpeg\" width=\"400px\">"
   ]
  },
  {
   "cell_type": "markdown",
   "metadata": {},
   "source": [
    "<hr>"
   ]
  },
  {
   "cell_type": "markdown",
   "metadata": {
    "id": "wa2T1Lq89o5H"
   },
   "source": [
    "## Predicting the Test set results"
   ]
  },
  {
   "cell_type": "code",
   "execution_count": 5,
   "metadata": {
    "id": "Rn_sTJ2o9smm"
   },
   "outputs": [],
   "source": [
    "y_pred = regressor.predict(X_test)"
   ]
  },
  {
   "cell_type": "markdown",
   "metadata": {},
   "source": [
    "<hr>"
   ]
  },
  {
   "cell_type": "markdown",
   "metadata": {},
   "source": [
    "<img src=\"data:image/jpeg;base64,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\" width=\"300px\">"
   ]
  },
  {
   "cell_type": "markdown",
   "metadata": {},
   "source": [
    "<hr>"
   ]
  },
  {
   "cell_type": "markdown",
   "metadata": {
    "id": "-zSoMZ-P9v8t"
   },
   "source": [
    "## Visualising the Training set results"
   ]
  },
  {
   "cell_type": "code",
   "execution_count": 6,
   "metadata": {
    "colab": {
     "base_uri": "https://localhost:8080/",
     "height": 295
    },
    "id": "IAePn_u-93tI",
    "outputId": "b860fdce-5757-4104-b6e9-0f180e3fca05"
   },
   "outputs": [
    {
     "data": {
      "image/png": "[encoded data removed]",
      "text/plain": [
       "<Figure size 432x288 with 1 Axes>"
      ]
     },
     "metadata": {
      "needs_background": "light"
     },
     "output_type": "display_data"
    }
   ],
   "source": [
    "plt.scatter(X_train, y_train, color = 'red')\n",
    "plt.plot(X_train, regressor.predict(X_train), color = 'blue')\n",
    "plt.title('Salary vs Experience (Training set)')\n",
    "plt.xlabel('Years of Experience')\n",
    "plt.ylabel('Salary')\n",
    "plt.show()"
   ]
  },
  {
   "cell_type": "markdown",
   "metadata": {},
   "source": [
    "<hr>"
   ]
  },
  {
   "cell_type": "markdown",
   "metadata": {},
   "source": [
    "<img src=\"https://pbs.twimg.com/media/EegSVtOXkAAcI_l.jpg\" width=\"400px\">"
   ]
  },
  {
   "cell_type": "markdown",
   "metadata": {},
   "source": [
    "<hr>"
   ]
  },
  {
   "cell_type": "markdown",
   "metadata": {
    "id": "EUX1Vhsv97ZT"
   },
   "source": [
    "## Visualising the Test set results"
   ]
  },
  {
   "cell_type": "code",
   "execution_count": 7,
   "metadata": {
    "colab": {
     "base_uri": "https://localhost:8080/",
     "height": 295
    },
    "id": "Ze9vpBTf-Bol",
    "outputId": "58359ab2-7a52-4960-f49e-3d8b5ef6f7a1"
   },
   "outputs": [
    {
     "data": {
      "image/png": "[encoded data removed]",
      "text/plain": [
       "<Figure size 432x288 with 1 Axes>"
      ]
     },
     "metadata": {
      "needs_background": "light"
     },
     "output_type": "display_data"
    }
   ],
   "source": [
    "plt.scatter(X_test, y_test, color = 'red')\n",
    "plt.plot(X_train, regressor.predict(X_train), color = 'blue')\n",
    "plt.title('Salary vs Experience (Test set)')\n",
    "plt.xlabel('Years of Experience')\n",
    "plt.ylabel('Salary')\n",
    "plt.show()"
   ]
  },
  {
   "cell_type": "markdown",
   "metadata": {},
   "source": [
    "<hr>"
   ]
  },
  {
   "cell_type": "markdown",
   "metadata": {},
   "source": [
    "<img src=\"https://encrypted-tbn0.gstatic.com/images?q=tbn:ANd9GcR1SmiRg0WGKNk2ZfYijk-SUo4utATcPpXRKw&usqp=CAU\" width=\"400px\">"
   ]
  },
  {
   "cell_type": "markdown",
   "metadata": {},
   "source": [
    "<hr>"
   ]
  },
  {
   "cell_type": "markdown",
   "metadata": {
    "id": "wa2T1Lq89o5H"
   },
   "source": [
    "## Predicting a single value"
   ]
  },
  {
   "cell_type": "code",
   "execution_count": 19,
   "metadata": {},
   "outputs": [
    {
     "name": "stdout",
     "output_type": "stream",
     "text": [
      "[85695.6296357]\n"
     ]
    }
   ],
   "source": [
    "single_prediction = regressor.predict([[6.3]])\n",
    "print(single_prediction)"
   ]
  },
  {
   "cell_type": "markdown",
   "metadata": {},
   "source": [
    "<hr>"
   ]
  },
  {
   "cell_type": "markdown",
   "metadata": {},
   "source": [
    "<img src=\"https://i.imgflip.com/1nnkb3.jpg\" width=\"400px\">"
   ]
  },
  {
   "cell_type": "markdown",
   "metadata": {},
   "source": [
    "<hr>"
   ]
  }
 ],
 "metadata": {
  "colab": {
   "collapsed_sections": [],
   "name": "Copy of simple_linear_regression.ipynb",
   "provenance": [],
   "toc_visible": true
  },
  "kernelspec": {
   "display_name": "Python 3 (ipykernel)",
   "language": "python",
   "name": "python3"
  },
  "language_info": {
   "codemirror_mode": {
    "name": "ipython",
    "version": 3
   },
   "file_extension": ".py",
   "mimetype": "text/x-python",
   "name": "python",
   "nbconvert_exporter": "python",
   "pygments_lexer": "ipython3",
   "version": "3.9.7"
  }
 },
 "nbformat": 4,
 "nbformat_minor": 1
}
