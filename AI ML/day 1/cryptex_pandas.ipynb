{
 "cells": [
  {
   "cell_type": "markdown",
   "id": "ba748019",
   "metadata": {},
   "source": [
    "<img src=\"https://i.redd.it/3ueb26gco5a41.jpg\" width=300 height=350 />"
   ]
  },
  {
   "cell_type": "markdown",
   "id": "1552c582",
   "metadata": {},
   "source": [
    "# PYTHON PANDAS"
   ]
  },
  {
   "cell_type": "markdown",
   "id": "4c60a128",
   "metadata": {},
   "source": [
    "<h4>Pandas is defined as an open-source library that provides high-performance data manipulation in \n",
    "Python.<br><br>\n",
    "It is used for data analysis in Python.<br><br>\n",
    "Before Pandas, Python was capable for data preparation, but it only provided limited support for \n",
    "data analysis. So, Pandas came into the picture and enhanced the capabilities of data analysis. <br>It \n",
    "can perform five significant steps required for processing and analysis of data irrespective of the \n",
    "origin of the data, i.e., load, manipulate, prepare, model, and analyze.    "
   ]
  },
  {
   "cell_type": "markdown",
   "id": "05937dfe",
   "metadata": {},
   "source": [
    "# Why Use Pandas?"
   ]
  },
  {
   "cell_type": "markdown",
   "id": "e2b1afce",
   "metadata": {},
   "source": [
    "Pandas allows us to analyze big data and make conclusions based on statistical theories.\n",
    "\n",
    "Pandas can clean messy data sets, and make them readable and relevant.\n",
    "\n",
    "Relevant data is very important in data science."
   ]
  },
  {
   "cell_type": "markdown",
   "id": "ed4df81a",
   "metadata": {},
   "source": [
    "There are three basic data structure in pandas.\n",
    "\n",
    "1)  Pandas series<br>\n",
    "2)  Dataframe"
   ]
  },
  {
   "cell_type": "markdown",
   "id": "68bc6739",
   "metadata": {},
   "source": [
    "## Series "
   ]
  },
  {
   "cell_type": "code",
   "execution_count": 4,
   "id": "1028eeb5",
   "metadata": {},
   "outputs": [
    {
     "name": "stdout",
     "output_type": "stream",
     "text": [
      "0    1\n",
      "1    7\n",
      "2    2\n",
      "dtype: int64\n"
     ]
    }
   ],
   "source": [
    "import pandas as pd\n",
    "\n",
    "a = [1, 7, 2]\n",
    "\n",
    "myvar = pd.Series(a)\n",
    "\n",
    "print(myvar)\n"
   ]
  },
  {
   "cell_type": "code",
   "execution_count": 5,
   "id": "1fc52a2d",
   "metadata": {},
   "outputs": [
    {
     "name": "stdout",
     "output_type": "stream",
     "text": [
      "x    1\n",
      "y    7\n",
      "z    2\n",
      "dtype: int64\n"
     ]
    }
   ],
   "source": [
    "a = [1, 7, 2]\n",
    "\n",
    "myvar = pd.Series(a, index = [\"x\", \"y\", \"z\"])\n",
    "\n",
    "print(myvar)"
   ]
  },
  {
   "cell_type": "code",
   "execution_count": 6,
   "id": "522951d3",
   "metadata": {},
   "outputs": [
    {
     "name": "stdout",
     "output_type": "stream",
     "text": [
      "day1    420\n",
      "day2    380\n",
      "day3    390\n",
      "dtype: int64\n"
     ]
    }
   ],
   "source": [
    "# Create a simple Pandas Series from a dictionary:\n",
    "\n",
    "calories = {\"day1\": 420, \"day2\": 380, \"day3\": 390}\n",
    "\n",
    "myvar = pd.Series(calories)\n",
    "\n",
    "print(myvar)"
   ]
  },
  {
   "cell_type": "markdown",
   "id": "a73135f2",
   "metadata": {},
   "source": [
    "## DataFrames"
   ]
  },
  {
   "cell_type": "markdown",
   "id": "628b4e34",
   "metadata": {},
   "source": [
    "Data sets in Pandas are usually multi-dimensional tables, called DataFrames.\n",
    "\n",
    "Series is like a column, a DataFrame is the whole table."
   ]
  },
  {
   "cell_type": "code",
   "execution_count": 7,
   "id": "5ae4b369",
   "metadata": {},
   "outputs": [
    {
     "name": "stdout",
     "output_type": "stream",
     "text": [
      "   calories  duration\n",
      "0       420        50\n",
      "1       380        40\n",
      "2       390        45\n"
     ]
    }
   ],
   "source": [
    "import pandas as pd\n",
    "\n",
    "data = {\n",
    "  \"calories\": [420, 380, 390],\n",
    "  \"duration\": [50, 40, 45]\n",
    "}\n",
    "\n",
    "myvar = pd.DataFrame(data)\n",
    "\n",
    "print(myvar)"
   ]
  },
  {
   "cell_type": "markdown",
   "id": "84df650a",
   "metadata": {},
   "source": [
    "### Locate Row "
   ]
  },
  {
   "cell_type": "markdown",
   "id": "f6a681d4",
   "metadata": {},
   "source": [
    "Pandas use the loc attribute to return one or more specified row(s)"
   ]
  },
  {
   "cell_type": "code",
   "execution_count": 9,
   "id": "a591825d",
   "metadata": {},
   "outputs": [
    {
     "name": "stdout",
     "output_type": "stream",
     "text": [
      "   calories  duration\n",
      "0       420        50\n",
      "1       380        40\n",
      "2       390        45\n",
      "calories    420\n",
      "duration     50\n",
      "Name: 0, dtype: int64\n"
     ]
    }
   ],
   "source": [
    "data = {\n",
    "  \"calories\": [420, 380, 390],\n",
    "  \"duration\": [50, 40, 45]\n",
    "}\n",
    "\n",
    "#load data into a DataFrame object:\n",
    "df = pd.DataFrame(data)\n",
    "\n",
    "print(df) \n",
    "#refer to the row index:\n",
    "print(df.loc[0])"
   ]
  },
  {
   "cell_type": "code",
   "execution_count": 10,
   "id": "3a2220fa",
   "metadata": {},
   "outputs": [
    {
     "name": "stdout",
     "output_type": "stream",
     "text": [
      "   calories  duration\n",
      "0       420        50\n",
      "1       380        40\n"
     ]
    }
   ],
   "source": [
    "print(df.loc[[0, 1]])"
   ]
  },
  {
   "cell_type": "code",
   "execution_count": 11,
   "id": "c3779afd",
   "metadata": {},
   "outputs": [
    {
     "name": "stdout",
     "output_type": "stream",
     "text": [
      "      calories  duration\n",
      "day1       420        50\n",
      "day2       380        40\n",
      "day3       390        45\n"
     ]
    }
   ],
   "source": [
    "import pandas as pd\n",
    "\n",
    "data = {\n",
    "  \"calories\": [420, 380, 390],\n",
    "  \"duration\": [50, 40, 45]\n",
    "}\n",
    "\n",
    "df = pd.DataFrame(data, index = [\"day1\", \"day2\", \"day3\"])\n",
    "\n",
    "print(df) "
   ]
  },
  {
   "cell_type": "markdown",
   "id": "e57c346c",
   "metadata": {},
   "source": [
    "# Pandas Read CSV"
   ]
  },
  {
   "cell_type": "code",
   "execution_count": 12,
   "id": "a2fe7648",
   "metadata": {},
   "outputs": [
    {
     "name": "stdout",
     "output_type": "stream",
     "text": [
      "     total_bill   tip     sex smoker   day    time  size\n",
      "0         16.99  1.01  Female     No   Sun  Dinner     2\n",
      "1         10.34  1.66    Male     No   Sun  Dinner     3\n",
      "2         21.01  3.50    Male     No   Sun  Dinner     3\n",
      "3         23.68  3.31    Male     No   Sun  Dinner     2\n",
      "4         24.59  3.61  Female     No   Sun  Dinner     4\n",
      "..          ...   ...     ...    ...   ...     ...   ...\n",
      "239       29.03  5.92    Male     No   Sat  Dinner     3\n",
      "240       27.18  2.00  Female    Yes   Sat  Dinner     2\n",
      "241       22.67  2.00    Male    Yes   Sat  Dinner     2\n",
      "242       17.82  1.75    Male     No   Sat  Dinner     2\n",
      "243       18.78  3.00  Female     No  Thur  Dinner     2\n",
      "\n",
      "[244 rows x 7 columns]\n"
     ]
    }
   ],
   "source": [
    "import pandas as pd\n",
    "\n",
    "df = pd.read_csv('tips.csv')\n",
    "\n",
    "print(df) "
   ]
  },
  {
   "cell_type": "markdown",
   "id": "ec8d81bb",
   "metadata": {},
   "source": [
    "# Pandas - Analyzing DataFrames"
   ]
  },
  {
   "cell_type": "code",
   "execution_count": 13,
   "id": "3a68d927",
   "metadata": {},
   "outputs": [
    {
     "name": "stdout",
     "output_type": "stream",
     "text": [
      "   total_bill   tip     sex smoker  day    time  size\n",
      "0       16.99  1.01  Female     No  Sun  Dinner     2\n",
      "1       10.34  1.66    Male     No  Sun  Dinner     3\n",
      "2       21.01  3.50    Male     No  Sun  Dinner     3\n",
      "3       23.68  3.31    Male     No  Sun  Dinner     2\n",
      "4       24.59  3.61  Female     No  Sun  Dinner     4\n",
      "5       25.29  4.71    Male     No  Sun  Dinner     4\n",
      "6        8.77  2.00    Male     No  Sun  Dinner     2\n",
      "7       26.88  3.12    Male     No  Sun  Dinner     4\n",
      "8       15.04  1.96    Male     No  Sun  Dinner     2\n",
      "9       14.78  3.23    Male     No  Sun  Dinner     2\n"
     ]
    }
   ],
   "source": [
    "print(df.head(10))"
   ]
  },
  {
   "cell_type": "code",
   "execution_count": 14,
   "id": "4c7892e1",
   "metadata": {},
   "outputs": [
    {
     "name": "stdout",
     "output_type": "stream",
     "text": [
      "     total_bill   tip     sex smoker   day    time  size\n",
      "234       15.53  3.00    Male    Yes   Sat  Dinner     2\n",
      "235       10.07  1.25    Male     No   Sat  Dinner     2\n",
      "236       12.60  1.00    Male    Yes   Sat  Dinner     2\n",
      "237       32.83  1.17    Male    Yes   Sat  Dinner     2\n",
      "238       35.83  4.67  Female     No   Sat  Dinner     3\n",
      "239       29.03  5.92    Male     No   Sat  Dinner     3\n",
      "240       27.18  2.00  Female    Yes   Sat  Dinner     2\n",
      "241       22.67  2.00    Male    Yes   Sat  Dinner     2\n",
      "242       17.82  1.75    Male     No   Sat  Dinner     2\n",
      "243       18.78  3.00  Female     No  Thur  Dinner     2\n"
     ]
    }
   ],
   "source": [
    "print(df.tail(10))"
   ]
  },
  {
   "cell_type": "code",
   "execution_count": 15,
   "id": "02481477",
   "metadata": {},
   "outputs": [
    {
     "name": "stdout",
     "output_type": "stream",
     "text": [
      "<class 'pandas.core.frame.DataFrame'>\n",
      "RangeIndex: 244 entries, 0 to 243\n",
      "Data columns (total 7 columns):\n",
      " #   Column      Non-Null Count  Dtype  \n",
      "---  ------      --------------  -----  \n",
      " 0   total_bill  244 non-null    float64\n",
      " 1   tip         244 non-null    float64\n",
      " 2   sex         244 non-null    object \n",
      " 3   smoker      244 non-null    object \n",
      " 4   day         244 non-null    object \n",
      " 5   time        244 non-null    object \n",
      " 6   size        244 non-null    int64  \n",
      "dtypes: float64(2), int64(1), object(4)\n",
      "memory usage: 13.5+ KB\n",
      "None\n"
     ]
    }
   ],
   "source": [
    "print(df.info()) "
   ]
  },
  {
   "cell_type": "markdown",
   "id": "c75cd359",
   "metadata": {},
   "source": [
    "# Data Pre-Processing"
   ]
  },
  {
   "cell_type": "markdown",
   "id": "7cdab373",
   "metadata": {},
   "source": [
    "Data preprocessing is a process of preparing the raw data and making it suitable for a machine learning model.<br> It is the first and crucial step while creating a machine learning model."
   ]
  },
  {
   "cell_type": "markdown",
   "id": "3a89793a",
   "metadata": {},
   "source": [
    "Imp Steps In Preprocessing\n",
    "\n",
    "->Getting the dataset<br>\n",
    "->Importing libraries<br>\n",
    "->Importing datasets<br>\n",
    "->Finding Missing Data<br>\n",
    "->Encoding Categorical Data<br>\n",
    "->Splitting dataset into training and test set<br>\n",
    "->Feature scaling"
   ]
  },
  {
   "cell_type": "code",
   "execution_count": 20,
   "id": "c9ffeee2",
   "metadata": {},
   "outputs": [
    {
     "name": "stdout",
     "output_type": "stream",
     "text": [
      "         Part      Feature    Price\n",
      "0     Monitor          LED  12000.0\n",
      "1         CPU           i7   3500.0\n",
      "2        None          RGB      NaN\n",
      "3       Mouse     Wireless   1200.0\n",
      "4        None    Zebronics      NaN\n",
      "5  Extensions         None    250.0\n",
      "6       Table   Urban Clap   7000.0\n",
      "7       Chair  Apex Chairs  12000.0\n",
      "8        Wifi       Airtel    799.0\n"
     ]
    }
   ],
   "source": [
    "import pandas as pd\n",
    "import numpy as np\n",
    "df = pd.DataFrame({\n",
    "    'Part': ['Monitor', 'CPU', None, 'Mouse', None, 'Extensions', 'Table', 'Chair', 'Wifi'],\n",
    "    'Feature': ['LED', 'i7', 'RGB', 'Wireless', 'Zebronics', None, 'Urban Clap', 'Apex Chairs', 'Airtel'],\n",
    "    'Price': [12000, 3500, None, 1200, None, 250, 7000, 12000, 799]\n",
    "})\n",
    "print(df)\n",
    "\n"
   ]
  },
  {
   "cell_type": "markdown",
   "id": "95cf79ec",
   "metadata": {},
   "source": [
    "### Check For NAN "
   ]
  },
  {
   "cell_type": "code",
   "execution_count": 21,
   "id": "2a454c52",
   "metadata": {},
   "outputs": [
    {
     "name": "stdout",
     "output_type": "stream",
     "text": [
      "   Number\n",
      "0     1.0\n",
      "1     2.0\n",
      "2     3.0\n",
      "3     4.0\n",
      "4     NaN\n",
      "5     5.0\n",
      "6     6.0\n",
      "7     NaN\n",
      "8     7.0\n",
      "9     8.0 \n",
      "\n",
      "\n",
      "True\n"
     ]
    }
   ],
   "source": [
    "data = {'Number':[1,2,3,4,np.nan,5,6,np.nan,7,8]}\n",
    "df = pd.DataFrame(data)\n",
    "print(df ,\"\\n\\n\")\n",
    "check = df['Number'].isnull().values.any()\n",
    "print(check)"
   ]
  },
  {
   "cell_type": "code",
   "execution_count": 26,
   "id": "0af4a2f5",
   "metadata": {},
   "outputs": [
    {
     "name": "stdout",
     "output_type": "stream",
     "text": [
      "   Number\n",
      "0     1.0\n",
      "1     2.0\n",
      "2     3.0\n",
      "3     4.0\n",
      "4     NaN\n",
      "5     5.0\n",
      "6     6.0\n",
      "7     NaN\n",
      "8     7.0\n",
      "9     8.0 \n",
      "\n",
      "\n",
      "0    False\n",
      "1    False\n",
      "2    False\n",
      "3    False\n",
      "4     True\n",
      "5    False\n",
      "6    False\n",
      "7     True\n",
      "8    False\n",
      "9    False\n",
      "Name: Number, dtype: bool\n"
     ]
    }
   ],
   "source": [
    "data = {'Number':[1,2,3,4,np.nan,5,6,np.nan,7,8]}\n",
    "df = pd.DataFrame(data)\n",
    "print(df ,\"\\n\\n\")\n",
    "check = df['Number'].isnull()\n",
    "print(check)"
   ]
  },
  {
   "cell_type": "markdown",
   "id": "150b1bac",
   "metadata": {},
   "source": [
    "### Count the Number of NAN  "
   ]
  },
  {
   "cell_type": "code",
   "execution_count": 22,
   "id": "e31e3e3a",
   "metadata": {},
   "outputs": [
    {
     "data": {
      "text/plain": [
       "Number    2\n",
       "dtype: int64"
      ]
     },
     "execution_count": 22,
     "metadata": {},
     "output_type": "execute_result"
    }
   ],
   "source": [
    "df.isnull().sum()"
   ]
  },
  {
   "cell_type": "markdown",
   "id": "c51fbc4f",
   "metadata": {},
   "source": [
    "### Count the total number of missing values in entire dataset "
   ]
  },
  {
   "cell_type": "code",
   "execution_count": 24,
   "id": "b3c804f4",
   "metadata": {},
   "outputs": [
    {
     "name": "stdout",
     "output_type": "stream",
     "text": [
      "0\n"
     ]
    }
   ],
   "source": [
    "df = pd.read_csv(\"iris.csv\")\n",
    "check = df.isnull().sum().sum()\n",
    "print(check)"
   ]
  },
  {
   "cell_type": "markdown",
   "id": "11408dae",
   "metadata": {},
   "source": [
    "### Fill NAN with ZERO "
   ]
  },
  {
   "cell_type": "code",
   "execution_count": 25,
   "id": "400fbc57",
   "metadata": {},
   "outputs": [
    {
     "name": "stdout",
     "output_type": "stream",
     "text": [
      "   Number\n",
      "0     1.0\n",
      "1     2.0\n",
      "2     3.0\n",
      "3     0.0\n",
      "4     4.0\n",
      "5     0.0\n",
      "6     6.0\n",
      "7     7.0\n",
      "8     8.0\n"
     ]
    }
   ],
   "source": [
    "data = {'Number':[1,2,3,np.nan,4,np.nan,6,7,8]}\n",
    "df = pd.DataFrame(data)\n",
    "# print(df)\n",
    "df['Number'] = df['Number'].fillna(0)\n",
    "print(df)"
   ]
  },
  {
   "cell_type": "markdown",
   "id": "40e0823a",
   "metadata": {},
   "source": [
    "# Fill missing values with mean , median, mode"
   ]
  },
  {
   "cell_type": "code",
   "execution_count": 27,
   "id": "472b008a",
   "metadata": {},
   "outputs": [],
   "source": [
    "# Method 1: Fill NaN Values in One Column with Mean\n",
    "# df['col1'] = df['col1'].fillna(df['col1'].mean())\n",
    "\n",
    "\n",
    "# Method 2: Fill NaN Values in Multiple Columns with Mean\n",
    "# df[['col1', 'col2']] = df[['col1', 'col2']].fillna(df[['col1', 'col2']].mean())\n",
    "\n",
    "# Method 3: Fill NaN Values in All Columns with Mean\n",
    "# df = df.fillna(df.mean())\n",
    "\n"
   ]
  },
  {
   "cell_type": "code",
   "execution_count": 28,
   "id": "7b5eab66",
   "metadata": {},
   "outputs": [
    {
     "data": {
      "text/html": [
       "<div>\n",
       "<style scoped>\n",
       "    .dataframe tbody tr th:only-of-type {\n",
       "        vertical-align: middle;\n",
       "    }\n",
       "\n",
       "    .dataframe tbody tr th {\n",
       "        vertical-align: top;\n",
       "    }\n",
       "\n",
       "    .dataframe thead th {\n",
       "        text-align: right;\n",
       "    }\n",
       "</style>\n",
       "<table border=\"1\" class=\"dataframe\">\n",
       "  <thead>\n",
       "    <tr style=\"text-align: right;\">\n",
       "      <th></th>\n",
       "      <th>rating</th>\n",
       "      <th>points</th>\n",
       "      <th>assists</th>\n",
       "      <th>rebounds</th>\n",
       "    </tr>\n",
       "  </thead>\n",
       "  <tbody>\n",
       "    <tr>\n",
       "      <th>0</th>\n",
       "      <td>NaN</td>\n",
       "      <td>25.0</td>\n",
       "      <td>5.0</td>\n",
       "      <td>11</td>\n",
       "    </tr>\n",
       "    <tr>\n",
       "      <th>1</th>\n",
       "      <td>85.0</td>\n",
       "      <td>NaN</td>\n",
       "      <td>7.0</td>\n",
       "      <td>8</td>\n",
       "    </tr>\n",
       "    <tr>\n",
       "      <th>2</th>\n",
       "      <td>NaN</td>\n",
       "      <td>14.0</td>\n",
       "      <td>7.0</td>\n",
       "      <td>10</td>\n",
       "    </tr>\n",
       "    <tr>\n",
       "      <th>3</th>\n",
       "      <td>88.0</td>\n",
       "      <td>16.0</td>\n",
       "      <td>NaN</td>\n",
       "      <td>6</td>\n",
       "    </tr>\n",
       "    <tr>\n",
       "      <th>4</th>\n",
       "      <td>94.0</td>\n",
       "      <td>27.0</td>\n",
       "      <td>5.0</td>\n",
       "      <td>6</td>\n",
       "    </tr>\n",
       "    <tr>\n",
       "      <th>5</th>\n",
       "      <td>90.0</td>\n",
       "      <td>20.0</td>\n",
       "      <td>7.0</td>\n",
       "      <td>9</td>\n",
       "    </tr>\n",
       "    <tr>\n",
       "      <th>6</th>\n",
       "      <td>76.0</td>\n",
       "      <td>12.0</td>\n",
       "      <td>6.0</td>\n",
       "      <td>6</td>\n",
       "    </tr>\n",
       "    <tr>\n",
       "      <th>7</th>\n",
       "      <td>75.0</td>\n",
       "      <td>15.0</td>\n",
       "      <td>9.0</td>\n",
       "      <td>10</td>\n",
       "    </tr>\n",
       "    <tr>\n",
       "      <th>8</th>\n",
       "      <td>87.0</td>\n",
       "      <td>14.0</td>\n",
       "      <td>9.0</td>\n",
       "      <td>10</td>\n",
       "    </tr>\n",
       "    <tr>\n",
       "      <th>9</th>\n",
       "      <td>86.0</td>\n",
       "      <td>19.0</td>\n",
       "      <td>5.0</td>\n",
       "      <td>7</td>\n",
       "    </tr>\n",
       "  </tbody>\n",
       "</table>\n",
       "</div>"
      ],
      "text/plain": [
       "   rating  points  assists  rebounds\n",
       "0     NaN    25.0      5.0        11\n",
       "1    85.0     NaN      7.0         8\n",
       "2     NaN    14.0      7.0        10\n",
       "3    88.0    16.0      NaN         6\n",
       "4    94.0    27.0      5.0         6\n",
       "5    90.0    20.0      7.0         9\n",
       "6    76.0    12.0      6.0         6\n",
       "7    75.0    15.0      9.0        10\n",
       "8    87.0    14.0      9.0        10\n",
       "9    86.0    19.0      5.0         7"
      ]
     },
     "execution_count": 28,
     "metadata": {},
     "output_type": "execute_result"
    }
   ],
   "source": [
    "import numpy as np\n",
    "import pandas as pd\n",
    "\n",
    "#create DataFrame with some NaN values\n",
    "df = pd.DataFrame({'rating': [np.nan, 85, np.nan, 88, 94, 90, 76, 75, 87, 86],\n",
    "                   'points': [25, np.nan, 14, 16, 27, 20, 12, 15, 14, 19],\n",
    "                   'assists': [5, 7, 7, np.nan, 5, 7, 6, 9, 9, 5],\n",
    "                   'rebounds': [11, 8, 10, 6, 6, 9, 6, 10, 10, 7]})\n",
    "\n",
    "#view DataFrame\n",
    "df"
   ]
  },
  {
   "cell_type": "code",
   "execution_count": 29,
   "id": "39251a42",
   "metadata": {},
   "outputs": [
    {
     "data": {
      "text/html": [
       "<div>\n",
       "<style scoped>\n",
       "    .dataframe tbody tr th:only-of-type {\n",
       "        vertical-align: middle;\n",
       "    }\n",
       "\n",
       "    .dataframe tbody tr th {\n",
       "        vertical-align: top;\n",
       "    }\n",
       "\n",
       "    .dataframe thead th {\n",
       "        text-align: right;\n",
       "    }\n",
       "</style>\n",
       "<table border=\"1\" class=\"dataframe\">\n",
       "  <thead>\n",
       "    <tr style=\"text-align: right;\">\n",
       "      <th></th>\n",
       "      <th>rating</th>\n",
       "      <th>points</th>\n",
       "      <th>assists</th>\n",
       "      <th>rebounds</th>\n",
       "    </tr>\n",
       "  </thead>\n",
       "  <tbody>\n",
       "    <tr>\n",
       "      <th>0</th>\n",
       "      <td>85.125</td>\n",
       "      <td>25.0</td>\n",
       "      <td>5.0</td>\n",
       "      <td>11</td>\n",
       "    </tr>\n",
       "    <tr>\n",
       "      <th>1</th>\n",
       "      <td>85.000</td>\n",
       "      <td>NaN</td>\n",
       "      <td>7.0</td>\n",
       "      <td>8</td>\n",
       "    </tr>\n",
       "    <tr>\n",
       "      <th>2</th>\n",
       "      <td>85.125</td>\n",
       "      <td>14.0</td>\n",
       "      <td>7.0</td>\n",
       "      <td>10</td>\n",
       "    </tr>\n",
       "    <tr>\n",
       "      <th>3</th>\n",
       "      <td>88.000</td>\n",
       "      <td>16.0</td>\n",
       "      <td>NaN</td>\n",
       "      <td>6</td>\n",
       "    </tr>\n",
       "    <tr>\n",
       "      <th>4</th>\n",
       "      <td>94.000</td>\n",
       "      <td>27.0</td>\n",
       "      <td>5.0</td>\n",
       "      <td>6</td>\n",
       "    </tr>\n",
       "    <tr>\n",
       "      <th>5</th>\n",
       "      <td>90.000</td>\n",
       "      <td>20.0</td>\n",
       "      <td>7.0</td>\n",
       "      <td>9</td>\n",
       "    </tr>\n",
       "    <tr>\n",
       "      <th>6</th>\n",
       "      <td>76.000</td>\n",
       "      <td>12.0</td>\n",
       "      <td>6.0</td>\n",
       "      <td>6</td>\n",
       "    </tr>\n",
       "    <tr>\n",
       "      <th>7</th>\n",
       "      <td>75.000</td>\n",
       "      <td>15.0</td>\n",
       "      <td>9.0</td>\n",
       "      <td>10</td>\n",
       "    </tr>\n",
       "    <tr>\n",
       "      <th>8</th>\n",
       "      <td>87.000</td>\n",
       "      <td>14.0</td>\n",
       "      <td>9.0</td>\n",
       "      <td>10</td>\n",
       "    </tr>\n",
       "    <tr>\n",
       "      <th>9</th>\n",
       "      <td>86.000</td>\n",
       "      <td>19.0</td>\n",
       "      <td>5.0</td>\n",
       "      <td>7</td>\n",
       "    </tr>\n",
       "  </tbody>\n",
       "</table>\n",
       "</div>"
      ],
      "text/plain": [
       "   rating  points  assists  rebounds\n",
       "0  85.125    25.0      5.0        11\n",
       "1  85.000     NaN      7.0         8\n",
       "2  85.125    14.0      7.0        10\n",
       "3  88.000    16.0      NaN         6\n",
       "4  94.000    27.0      5.0         6\n",
       "5  90.000    20.0      7.0         9\n",
       "6  76.000    12.0      6.0         6\n",
       "7  75.000    15.0      9.0        10\n",
       "8  87.000    14.0      9.0        10\n",
       "9  86.000    19.0      5.0         7"
      ]
     },
     "execution_count": 29,
     "metadata": {},
     "output_type": "execute_result"
    }
   ],
   "source": [
    "#fill NaNs with column mean in 'rating' column\n",
    "df['rating'] = df['rating'].fillna(df['rating'].mean())\n",
    "\n",
    "#view updated DataFrame \n",
    "df\n"
   ]
  },
  {
   "cell_type": "code",
   "execution_count": 30,
   "id": "ab5ca1d8",
   "metadata": {},
   "outputs": [
    {
     "data": {
      "text/html": [
       "<div>\n",
       "<style scoped>\n",
       "    .dataframe tbody tr th:only-of-type {\n",
       "        vertical-align: middle;\n",
       "    }\n",
       "\n",
       "    .dataframe tbody tr th {\n",
       "        vertical-align: top;\n",
       "    }\n",
       "\n",
       "    .dataframe thead th {\n",
       "        text-align: right;\n",
       "    }\n",
       "</style>\n",
       "<table border=\"1\" class=\"dataframe\">\n",
       "  <thead>\n",
       "    <tr style=\"text-align: right;\">\n",
       "      <th></th>\n",
       "      <th>rating</th>\n",
       "      <th>points</th>\n",
       "      <th>assists</th>\n",
       "      <th>rebounds</th>\n",
       "    </tr>\n",
       "  </thead>\n",
       "  <tbody>\n",
       "    <tr>\n",
       "      <th>0</th>\n",
       "      <td>85.125</td>\n",
       "      <td>25.0</td>\n",
       "      <td>5.0</td>\n",
       "      <td>11</td>\n",
       "    </tr>\n",
       "    <tr>\n",
       "      <th>1</th>\n",
       "      <td>85.000</td>\n",
       "      <td>18.0</td>\n",
       "      <td>7.0</td>\n",
       "      <td>8</td>\n",
       "    </tr>\n",
       "    <tr>\n",
       "      <th>2</th>\n",
       "      <td>85.125</td>\n",
       "      <td>14.0</td>\n",
       "      <td>7.0</td>\n",
       "      <td>10</td>\n",
       "    </tr>\n",
       "    <tr>\n",
       "      <th>3</th>\n",
       "      <td>88.000</td>\n",
       "      <td>16.0</td>\n",
       "      <td>NaN</td>\n",
       "      <td>6</td>\n",
       "    </tr>\n",
       "    <tr>\n",
       "      <th>4</th>\n",
       "      <td>94.000</td>\n",
       "      <td>27.0</td>\n",
       "      <td>5.0</td>\n",
       "      <td>6</td>\n",
       "    </tr>\n",
       "    <tr>\n",
       "      <th>5</th>\n",
       "      <td>90.000</td>\n",
       "      <td>20.0</td>\n",
       "      <td>7.0</td>\n",
       "      <td>9</td>\n",
       "    </tr>\n",
       "    <tr>\n",
       "      <th>6</th>\n",
       "      <td>76.000</td>\n",
       "      <td>12.0</td>\n",
       "      <td>6.0</td>\n",
       "      <td>6</td>\n",
       "    </tr>\n",
       "    <tr>\n",
       "      <th>7</th>\n",
       "      <td>75.000</td>\n",
       "      <td>15.0</td>\n",
       "      <td>9.0</td>\n",
       "      <td>10</td>\n",
       "    </tr>\n",
       "    <tr>\n",
       "      <th>8</th>\n",
       "      <td>87.000</td>\n",
       "      <td>14.0</td>\n",
       "      <td>9.0</td>\n",
       "      <td>10</td>\n",
       "    </tr>\n",
       "    <tr>\n",
       "      <th>9</th>\n",
       "      <td>86.000</td>\n",
       "      <td>19.0</td>\n",
       "      <td>5.0</td>\n",
       "      <td>7</td>\n",
       "    </tr>\n",
       "  </tbody>\n",
       "</table>\n",
       "</div>"
      ],
      "text/plain": [
       "   rating  points  assists  rebounds\n",
       "0  85.125    25.0      5.0        11\n",
       "1  85.000    18.0      7.0         8\n",
       "2  85.125    14.0      7.0        10\n",
       "3  88.000    16.0      NaN         6\n",
       "4  94.000    27.0      5.0         6\n",
       "5  90.000    20.0      7.0         9\n",
       "6  76.000    12.0      6.0         6\n",
       "7  75.000    15.0      9.0        10\n",
       "8  87.000    14.0      9.0        10\n",
       "9  86.000    19.0      5.0         7"
      ]
     },
     "execution_count": 30,
     "metadata": {},
     "output_type": "execute_result"
    }
   ],
   "source": [
    "#fill NaNs with column means in 'rating' and 'points' columns\n",
    "df[['rating', 'points']] = df[['rating', 'points']].fillna(df[['rating', 'points']].mean())\n",
    "\n",
    "#view updated DataFrame\n",
    "df\n"
   ]
  },
  {
   "cell_type": "code",
   "execution_count": 31,
   "id": "2d56e3bd",
   "metadata": {},
   "outputs": [
    {
     "data": {
      "text/html": [
       "<div>\n",
       "<style scoped>\n",
       "    .dataframe tbody tr th:only-of-type {\n",
       "        vertical-align: middle;\n",
       "    }\n",
       "\n",
       "    .dataframe tbody tr th {\n",
       "        vertical-align: top;\n",
       "    }\n",
       "\n",
       "    .dataframe thead th {\n",
       "        text-align: right;\n",
       "    }\n",
       "</style>\n",
       "<table border=\"1\" class=\"dataframe\">\n",
       "  <thead>\n",
       "    <tr style=\"text-align: right;\">\n",
       "      <th></th>\n",
       "      <th>rating</th>\n",
       "      <th>points</th>\n",
       "      <th>assists</th>\n",
       "      <th>rebounds</th>\n",
       "    </tr>\n",
       "  </thead>\n",
       "  <tbody>\n",
       "    <tr>\n",
       "      <th>0</th>\n",
       "      <td>85.125</td>\n",
       "      <td>25.0</td>\n",
       "      <td>5.000000</td>\n",
       "      <td>11</td>\n",
       "    </tr>\n",
       "    <tr>\n",
       "      <th>1</th>\n",
       "      <td>85.000</td>\n",
       "      <td>18.0</td>\n",
       "      <td>7.000000</td>\n",
       "      <td>8</td>\n",
       "    </tr>\n",
       "    <tr>\n",
       "      <th>2</th>\n",
       "      <td>85.125</td>\n",
       "      <td>14.0</td>\n",
       "      <td>7.000000</td>\n",
       "      <td>10</td>\n",
       "    </tr>\n",
       "    <tr>\n",
       "      <th>3</th>\n",
       "      <td>88.000</td>\n",
       "      <td>16.0</td>\n",
       "      <td>6.666667</td>\n",
       "      <td>6</td>\n",
       "    </tr>\n",
       "    <tr>\n",
       "      <th>4</th>\n",
       "      <td>94.000</td>\n",
       "      <td>27.0</td>\n",
       "      <td>5.000000</td>\n",
       "      <td>6</td>\n",
       "    </tr>\n",
       "    <tr>\n",
       "      <th>5</th>\n",
       "      <td>90.000</td>\n",
       "      <td>20.0</td>\n",
       "      <td>7.000000</td>\n",
       "      <td>9</td>\n",
       "    </tr>\n",
       "    <tr>\n",
       "      <th>6</th>\n",
       "      <td>76.000</td>\n",
       "      <td>12.0</td>\n",
       "      <td>6.000000</td>\n",
       "      <td>6</td>\n",
       "    </tr>\n",
       "    <tr>\n",
       "      <th>7</th>\n",
       "      <td>75.000</td>\n",
       "      <td>15.0</td>\n",
       "      <td>9.000000</td>\n",
       "      <td>10</td>\n",
       "    </tr>\n",
       "    <tr>\n",
       "      <th>8</th>\n",
       "      <td>87.000</td>\n",
       "      <td>14.0</td>\n",
       "      <td>9.000000</td>\n",
       "      <td>10</td>\n",
       "    </tr>\n",
       "    <tr>\n",
       "      <th>9</th>\n",
       "      <td>86.000</td>\n",
       "      <td>19.0</td>\n",
       "      <td>5.000000</td>\n",
       "      <td>7</td>\n",
       "    </tr>\n",
       "  </tbody>\n",
       "</table>\n",
       "</div>"
      ],
      "text/plain": [
       "   rating  points   assists  rebounds\n",
       "0  85.125    25.0  5.000000        11\n",
       "1  85.000    18.0  7.000000         8\n",
       "2  85.125    14.0  7.000000        10\n",
       "3  88.000    16.0  6.666667         6\n",
       "4  94.000    27.0  5.000000         6\n",
       "5  90.000    20.0  7.000000         9\n",
       "6  76.000    12.0  6.000000         6\n",
       "7  75.000    15.0  9.000000        10\n",
       "8  87.000    14.0  9.000000        10\n",
       "9  86.000    19.0  5.000000         7"
      ]
     },
     "execution_count": 31,
     "metadata": {},
     "output_type": "execute_result"
    }
   ],
   "source": [
    "#fill NaNs with column means in each column \n",
    "df = df.fillna(df.mean())\n",
    "\n",
    "#view updated DataFrame\n",
    "df\n"
   ]
  },
  {
   "cell_type": "code",
   "execution_count": null,
   "id": "5d5f72fe",
   "metadata": {},
   "outputs": [],
   "source": []
  }
 ],
 "metadata": {
  "kernelspec": {
   "display_name": "Python 3 (ipykernel)",
   "language": "python",
   "name": "python3"
  },
  "language_info": {
   "codemirror_mode": {
    "name": "ipython",
    "version": 3
   },
   "file_extension": ".py",
   "mimetype": "text/x-python",
   "name": "python",
   "nbconvert_exporter": "python",
   "pygments_lexer": "ipython3",
   "version": "3.9.7"
  }
 },
 "nbformat": 4,
 "nbformat_minor": 5
}
