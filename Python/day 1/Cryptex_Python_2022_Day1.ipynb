{
 "cells": [
  {
   "cell_type": "markdown",
   "id": "74635d58",
   "metadata": {},
   "source": [
    "# Introduction to Python Programming"
   ]
  },
  {
   "attachments": {},
   "cell_type": "markdown",
   "id": "aeba4eec",
   "metadata": {},
   "source": [
    "<img src=\"https://camo.githubusercontent.com/885def83501f8b30cbdc0a228a5f49cf35d53d95332edfa0cced8b4b3b61caee/68747470733a2f2f692e70696e696d672e636f6d2f6f726967696e616c732f66302f35372f34352f66303537343530393765613632373337303962666532653732373938393438382e6a7067\" alt = \"img\" >"
   ]
  },
  {
   "cell_type": "markdown",
   "id": "97738770",
   "metadata": {},
   "source": [
    "## Variable\n",
    "A variable is an identifier for a memory location in which data can be stored and subsequently recalled.\n",
    "\n",
    "Variables are used for holding data values so they can be utilized in various computations in a program.\n",
    "\n",
    "In python, we can declare variables in following way :"
   ]
  },
  {
   "cell_type": "code",
   "execution_count": 1,
   "id": "6f0d70f2",
   "metadata": {},
   "outputs": [
    {
     "name": "stdout",
     "output_type": "stream",
     "text": [
      "5\n",
      "CJV\n",
      "3.5\n"
     ]
    }
   ],
   "source": [
    "x = 5\n",
    "y = \"CJV\"\n",
    "z = 3.50\n",
    "print(x)\n",
    "print(y)\n",
    "print(z)"
   ]
  },
  {
   "cell_type": "markdown",
   "id": "5492ff15",
   "metadata": {},
   "source": [
    "The data stored in the variables has a certain type.\n",
    "\n",
    "For Example :-\n",
    "\n",
    "### str : String\n",
    "\n",
    "'Hello' , \n",
    " \"4.5\"\n",
    "\n",
    "### int : integer\n",
    "\n",
    "8903 , \n",
    " -7432\n",
    "\n",
    "### float \n",
    "\n",
    "9.0567 , \n",
    " -3.8975\n",
    "\n",
    "### boolean \n",
    "True(1) ,  False(0)\n",
    "\n",
    "Checking the data type of the given variable :\n",
    "we use type() function"
   ]
  },
  {
   "cell_type": "code",
   "execution_count": 2,
   "id": "bd74e822",
   "metadata": {},
   "outputs": [
    {
     "name": "stdout",
     "output_type": "stream",
     "text": [
      "<class 'int'>\n",
      "<class 'str'>\n",
      "<class 'float'>\n"
     ]
    }
   ],
   "source": [
    "print(type(x))\n",
    "print(type(y))\n",
    "print(type(z))"
   ]
  },
  {
   "cell_type": "markdown",
   "id": "54859326",
   "metadata": {},
   "source": [
    "## Input and Output"
   ]
  },
  {
   "cell_type": "code",
   "execution_count": 3,
   "id": "5b872977",
   "metadata": {},
   "outputs": [
    {
     "name": "stdout",
     "output_type": "stream",
     "text": [
      "Hello World!\n"
     ]
    }
   ],
   "source": [
    "print('Hello World!')"
   ]
  },
  {
   "cell_type": "code",
   "execution_count": 4,
   "id": "d2aed1e6",
   "metadata": {},
   "outputs": [
    {
     "name": "stdout",
     "output_type": "stream",
     "text": [
      "True 7.8 python\n",
      "345\n"
     ]
    }
   ],
   "source": [
    "print(True,7.8,'python')\n",
    "print(345)"
   ]
  },
  {
   "cell_type": "code",
   "execution_count": 5,
   "id": "b85d3f92",
   "metadata": {},
   "outputs": [
    {
     "name": "stdout",
     "output_type": "stream",
     "text": [
      "True 7.8 python 345\n"
     ]
    }
   ],
   "source": [
    "print(True,7.8,'python',end=' ')\n",
    "print(345)"
   ]
  },
  {
   "cell_type": "code",
   "execution_count": 6,
   "id": "17e25ced",
   "metadata": {},
   "outputs": [
    {
     "name": "stdout",
     "output_type": "stream",
     "text": [
      "name: 7vik\n"
     ]
    }
   ],
   "source": [
    "name = input('name: ')"
   ]
  },
  {
   "cell_type": "code",
   "execution_count": 7,
   "id": "c2908693",
   "metadata": {},
   "outputs": [
    {
     "name": "stdout",
     "output_type": "stream",
     "text": [
      "18\n",
      "18\n"
     ]
    }
   ],
   "source": [
    "age = input()\n",
    "print(age)"
   ]
  },
  {
   "cell_type": "code",
   "execution_count": 8,
   "id": "0c20bd65",
   "metadata": {},
   "outputs": [
    {
     "name": "stdout",
     "output_type": "stream",
     "text": [
      "Hello 7vik you are 18 years old\n"
     ]
    }
   ],
   "source": [
    "print('Hello',name,'you are',age,'years old') # + and , and error of concatenation if int(input())"
   ]
  },
  {
   "cell_type": "markdown",
   "id": "ce281f95",
   "metadata": {},
   "source": [
    "## Operators\n",
    "Data saved in the variables can be operated on.\n",
    "\n",
    "There are 7 types of operators :\n",
    "\n",
    "Arithmetic Operators:\n",
    "Addition, Subtraction, Multiplication, Division, Floor division, Exponentiation, Modulus."
   ]
  },
  {
   "cell_type": "code",
   "execution_count": 9,
   "id": "bf3894e0",
   "metadata": {},
   "outputs": [
    {
     "name": "stdout",
     "output_type": "stream",
     "text": [
      "11\n",
      "-7\n",
      "18\n",
      "0.2222222222222222\n",
      "0\n",
      "81\n",
      "2\n"
     ]
    }
   ],
   "source": [
    "x = 2\n",
    "y = 9\n",
    "\n",
    "print(x+y)\n",
    "print(x-y)\n",
    "print(x*y)\n",
    "print(x/y) # normal divison\n",
    "print(x//y) # floor division\n",
    "print(y**x)\n",
    "print(x%y)"
   ]
  },
  {
   "cell_type": "markdown",
   "id": "1fcc1bd3",
   "metadata": {},
   "source": [
    "### Assignment Operators :"
   ]
  },
  {
   "cell_type": "code",
   "execution_count": 10,
   "id": "27cff35b",
   "metadata": {},
   "outputs": [
    {
     "name": "stdout",
     "output_type": "stream",
     "text": [
      "10\n"
     ]
    }
   ],
   "source": [
    "x = 5\n",
    "#assigns value 5 to the variable x\n",
    "x += 5\n",
    "# x = x + 5\n",
    "# Similarly we can use it with other arithmetic operators.\n",
    "print(x)"
   ]
  },
  {
   "cell_type": "markdown",
   "id": "619bf41a",
   "metadata": {},
   "source": [
    "### Comparison Operators :"
   ]
  },
  {
   "cell_type": "code",
   "execution_count": 11,
   "id": "c2e93095",
   "metadata": {},
   "outputs": [
    {
     "data": {
      "text/plain": [
       "False"
      ]
     },
     "execution_count": 11,
     "metadata": {},
     "output_type": "execute_result"
    }
   ],
   "source": [
    "x != y\n",
    "#x not equal to y\n",
    "\n",
    "x == y\n",
    "#x equal to y\n",
    "\n",
    "x > y\n",
    "#x greater than y\n",
    "\n",
    "x >= y\n",
    "# x greater than or equal to y\n",
    "\n",
    "x < y\n",
    "#x less than y\n",
    "\n",
    "x <= y\n",
    "#x lesser than or equal to y"
   ]
  },
  {
   "cell_type": "markdown",
   "id": "90033b93",
   "metadata": {},
   "source": [
    "### Logical Operators :"
   ]
  },
  {
   "cell_type": "code",
   "execution_count": 12,
   "id": "e0a956f4",
   "metadata": {},
   "outputs": [
    {
     "data": {
      "text/plain": [
       "True"
      ]
     },
     "execution_count": 12,
     "metadata": {},
     "output_type": "execute_result"
    }
   ],
   "source": [
    "x < 20 and y < 30\n",
    "x > 34 or y > 21\n",
    "not(x > 7 and y < 0)"
   ]
  },
  {
   "cell_type": "markdown",
   "id": "16b49749",
   "metadata": {},
   "source": [
    "### Identity Operators :"
   ]
  },
  {
   "cell_type": "code",
   "execution_count": 13,
   "id": "c4bbbb53",
   "metadata": {},
   "outputs": [
    {
     "name": "stdout",
     "output_type": "stream",
     "text": [
      "False\n",
      "True\n"
     ]
    }
   ],
   "source": [
    "x = 5\n",
    "y = 10\n",
    "print(x is y)\n",
    "print(x is not y)"
   ]
  },
  {
   "cell_type": "markdown",
   "id": "9fc16e15",
   "metadata": {},
   "source": [
    "### Bitwise Operators :"
   ]
  },
  {
   "cell_type": "markdown",
   "id": "bb44c220",
   "metadata": {},
   "source": [
    "x&y\n",
    "<br>\n",
    "x|y\n",
    "<br>\n",
    "x^z\n",
    "<br>\n",
    "~x\n",
    "<br>\n",
    "x<<\n",
    "<br>\n",
    "x>>"
   ]
  },
  {
   "attachments": {},
   "cell_type": "markdown",
   "id": "e9f894eb",
   "metadata": {},
   "source": [
    "## Type Casting\n",
    "\n",
    "<img src =\"https://camo.githubusercontent.com/03e04ecb62232e9925e85c7d9ba8f1f54706f7f2594e479969b260ed8bae28c6/68747470733a2f2f7777772e636f6465697462726f2e636f6d2f77702d636f6e74656e742f75706c6f6164732f323032302f30372f707974686f6e2d66756e6e792d6d656d652d31372d63616e742d636f6d706172652d696e742d616e642d666c6f61742e6a7067\" alt = \"img\" >"
   ]
  },
  {
   "cell_type": "markdown",
   "id": "4b54fc3a",
   "metadata": {},
   "source": [
    "At times when we need to specify a certain variable to a particular datatype, we use casting."
   ]
  },
  {
   "cell_type": "code",
   "execution_count": null,
   "id": "26ed3914",
   "metadata": {},
   "outputs": [],
   "source": [
    "x = int(5.4)\n",
    "y = str(1.2)\n",
    "z = float(9)\n",
    "print(x)\n",
    "print(y)\n",
    "print(z)\n",
    "print(type(y))"
   ]
  },
  {
   "cell_type": "markdown",
   "id": "47c09a51",
   "metadata": {},
   "source": [
    "# Diving in Python!"
   ]
  },
  {
   "cell_type": "markdown",
   "id": "c8a93fba",
   "metadata": {},
   "source": [
    "Like every spoken and written language, similarly we have syntax for programming languages too.\n",
    "\n",
    "Python has relatively easier syntax in comparison to other languages likes C, C++, Java.\n",
    "\n",
    "Python is a high level language.\n",
    "\n",
    "It is used for web development, AI, ML, Deep Learning, Image processing purposes.\n",
    "\n",
    "Let's focus on the python syntax now.\n",
    "\n",
    "### Indentations\n",
    "To put in simple words - space before beginning of code in every line of the program.\n",
    "\n",
    "Python uses indentation to recognize particular block of code.\n",
    "\n",
    "Example :"
   ]
  },
  {
   "cell_type": "code",
   "execution_count": null,
   "id": "d91887f3",
   "metadata": {},
   "outputs": [],
   "source": [
    "x = 3\n",
    "\n",
    "if x == 3:\n",
    "print(\"yes\")"
   ]
  },
  {
   "cell_type": "markdown",
   "id": "07d77f8d",
   "metadata": {},
   "source": [
    "Here assignment of 3 to x is a block while, if and then condition is another block."
   ]
  },
  {
   "attachments": {},
   "cell_type": "markdown",
   "id": "0e2fd5fe",
   "metadata": {},
   "source": [
    "<img src = \"https://camo.githubusercontent.com/de680a1d6d0d5e52c74aa585b764b287d79a922efe98c9e077cf318b5b319476/68747470733a2f2f706963732e6d652e6d652f657869742d70726f6772616d6d696e672d696e2d707974686f6e2d696e64656e746174696f6e2d6572726f722d707974686f6e2d68697474696e672d6d652d616761696e2d36353733303134312e706e67\" alt = \"img\" >"
   ]
  },
  {
   "cell_type": "markdown",
   "id": "ebdcbc94",
   "metadata": {},
   "source": [
    "### Comment\n",
    "When we write code, for future references we use commenting feature to understand what we had written in the past."
   ]
  },
  {
   "cell_type": "code",
   "execution_count": null,
   "id": "b440951e",
   "metadata": {},
   "outputs": [],
   "source": [
    "#this is an example of single line commenting in python"
   ]
  },
  {
   "cell_type": "code",
   "execution_count": null,
   "id": "4f3e263e",
   "metadata": {},
   "outputs": [],
   "source": [
    "print(\"Hello\",end=\" \")\n",
    "\"\"\"\n",
    "This is an example\n",
    "of\n",
    "multi line commenting\n",
    "\"\"\"\n",
    "print(\"World!!\")"
   ]
  },
  {
   "attachments": {},
   "cell_type": "markdown",
   "id": "efb123b8",
   "metadata": {},
   "source": [
    "<img src = \"https://camo.githubusercontent.com/2cbf2408fb8d408ec1fa66767aa48e74c317800eb65634c6bd4647f756b0f08f/68747470733a2f2f7777772e636f6465697462726f2e636f6d2f77702d636f6e74656e742f75706c6f6164732f323032302f30372f707974686f6e2d6a6f6b65732d64656c6574652d626c6f636b2d6f662d636f64652e6a7067\">"
   ]
  },
  {
   "cell_type": "markdown",
   "id": "281dcca2",
   "metadata": {},
   "source": [
    "# Strings"
   ]
  },
  {
   "cell_type": "code",
   "execution_count": null,
   "id": "54facb84",
   "metadata": {},
   "outputs": [],
   "source": [
    "x = 'cryptex' \n",
    "print(x)\n",
    "print(x.upper())\n",
    "print(x.capitalize())\n",
    "print(x.count('r'))\n",
    "print(x.find('p'))\n",
    "\n",
    "print(x)"
   ]
  },
  {
   "cell_type": "markdown",
   "id": "16b12120",
   "metadata": {},
   "source": [
    "## Conditional Statements in Python\n",
    "### if"
   ]
  },
  {
   "cell_type": "code",
   "execution_count": null,
   "id": "e90b9842",
   "metadata": {},
   "outputs": [],
   "source": [
    "Reyna = 100\n",
    "Raze = 0\n",
    "\n",
    "if Reyna > Raze :\n",
    "  print('They will cower!')"
   ]
  },
  {
   "cell_type": "markdown",
   "id": "a9c9a7b3",
   "metadata": {},
   "source": [
    "### if else"
   ]
  },
  {
   "cell_type": "code",
   "execution_count": null,
   "id": "eec05f6b",
   "metadata": {},
   "outputs": [],
   "source": [
    "Reyna = 10\n",
    "Raze = 100\n",
    "\n",
    "if Reyna > Raze :\n",
    "    print('They will cower!')\n",
    "else:\n",
    "    print('Here comes the party!')"
   ]
  },
  {
   "attachments": {},
   "cell_type": "markdown",
   "id": "1d494ed1",
   "metadata": {},
   "source": [
    "### elif\n",
    "<img src =\"https://cdn.programiz.com/sites/tutorial2program/files/Python_if_elif_else_statement.jpg\">"
   ]
  },
  {
   "cell_type": "code",
   "execution_count": null,
   "id": "3d1f01fb",
   "metadata": {},
   "outputs": [],
   "source": [
    "num = 3.4\n",
    "\n",
    "# Try these two variations as well:\n",
    "# num = 0\n",
    "# num = -4.5\n",
    "\n",
    "if num > 0:\n",
    "    print(\"Positive number\")\n",
    "elif num == 0:\n",
    "    print(\"Zero\")\n",
    "else:\n",
    "    print(\"Negative number\")"
   ]
  },
  {
   "cell_type": "markdown",
   "id": "6f500246",
   "metadata": {},
   "source": [
    "### Nested if"
   ]
  },
  {
   "cell_type": "code",
   "execution_count": null,
   "id": "08000236",
   "metadata": {},
   "outputs": [],
   "source": [
    "num = float(input(\"Enter a number: \"))\n",
    "if num >= 0:\n",
    "    print(\"A\")\n",
    "    if num == 0:\n",
    "        print(\"Zero\")\n",
    "    else:\n",
    "        print(\"Positive number\")\n",
    "else:\n",
    "    print(\"B\")\n",
    "    print(\"Negative number\")"
   ]
  },
  {
   "cell_type": "markdown",
   "id": "32a5f604",
   "metadata": {},
   "source": [
    "# Loops\n",
    "To iterate through same line of code over and over again, we use loops.\n",
    "\n",
    "### For Loop\n",
    "A 'for' loop is used for iterating over a sequence.\n",
    "With the for loop we can execute a set of statements, once for each item in a list, tuple, set etc."
   ]
  },
  {
   "cell_type": "code",
   "execution_count": null,
   "id": "b4ab84e0",
   "metadata": {},
   "outputs": [],
   "source": [
    "sum = 0\n",
    "for a in range(0,10):\n",
    "  sum += a\n",
    "print(sum)\n",
    "\n",
    "#prints sum of first 9 natural numbers"
   ]
  },
  {
   "cell_type": "code",
   "execution_count": null,
   "id": "29c74c66",
   "metadata": {},
   "outputs": [],
   "source": [
    "sum = 0\n",
    "for a in range(0,10,2):\n",
    "  sum += a\n",
    "print(sum)\n",
    "\n",
    "#prints sum of numbers between 0, 10 at interval of 2."
   ]
  },
  {
   "cell_type": "markdown",
   "id": "257fd695",
   "metadata": {},
   "source": [
    "### While Loop"
   ]
  },
  {
   "cell_type": "code",
   "execution_count": null,
   "id": "4ba39558",
   "metadata": {},
   "outputs": [],
   "source": [
    "a = 0\n",
    "while a < 20:\n",
    "  print(a)\n",
    "  a += 1\n",
    "\n",
    "#prints numbers from 0 to 19"
   ]
  },
  {
   "attachments": {},
   "cell_type": "markdown",
   "id": "7416b881",
   "metadata": {},
   "source": [
    "<img src = \"https://camo.githubusercontent.com/e2b2863c5bc1f1047c2804da85ff6d08ed4bc34acec79f45ce0f2cafe025d751/68747470733a2f2f616873656569742e636f6d2f2f6b696e672d696e636c7564652f75706c6f6164732f323032312f30312f3133353632313530355f333439303131303333373737373633305f323031343432363035373133313536353036305f6e2d353737393832363131372e6a7067\" alt = \"img\" >"
   ]
  },
  {
   "cell_type": "markdown",
   "id": "aa8b5f31",
   "metadata": {},
   "source": [
    "### Break statement\n",
    "End the loop if i is larger than 3:"
   ]
  },
  {
   "cell_type": "code",
   "execution_count": null,
   "id": "4d1113c4",
   "metadata": {},
   "outputs": [],
   "source": [
    "for i in range(9):\n",
    "  if i > 3:\n",
    "    break\n",
    "  print(i)"
   ]
  },
  {
   "cell_type": "markdown",
   "id": "50ce9ed1",
   "metadata": {},
   "source": [
    "### Continue Statement\n",
    "Skip the iteration if the variable i is 3, but continue with the next iteration:"
   ]
  },
  {
   "cell_type": "code",
   "execution_count": null,
   "id": "0e2438eb",
   "metadata": {},
   "outputs": [],
   "source": [
    "for i in range(9):\n",
    "  if i == 3:\n",
    "    continue\n",
    "  print(i)"
   ]
  },
  {
   "cell_type": "markdown",
   "id": "513467a1",
   "metadata": {},
   "source": [
    "# Data structures in python"
   ]
  },
  {
   "cell_type": "markdown",
   "id": "b628bfa6",
   "metadata": {},
   "source": [
    "## List\n",
    "Lists are used to store multiple items in a single variable. Lists can be used for any type of object, from numbers and strings to more lists.\n",
    "\n",
    "They are accessed just like strings (e.g. slicing and concatenation) so they are simple to use and they’re variable length, i.e. they grow and shrink automatically as they’re used.\n",
    "Lists are muttable."
   ]
  },
  {
   "cell_type": "code",
   "execution_count": null,
   "id": "42726086",
   "metadata": {},
   "outputs": [],
   "source": [
    "l = ['element', 2,'cryptex', 'python', '2022']\n",
    "\n",
    "#experimenting with the list display options\n",
    "print(l[1])\n",
    "print(l[-2])\n",
    "print(l[3:])\n",
    "print(l[::])\n",
    "print(l[::-1])"
   ]
  },
  {
   "cell_type": "code",
   "execution_count": null,
   "id": "4c167459",
   "metadata": {},
   "outputs": [],
   "source": [
    "# changing elements of the list\n",
    "string = input()\n",
    "l[0] = string\n",
    "print(l)"
   ]
  },
  {
   "cell_type": "code",
   "execution_count": null,
   "id": "2ccff492",
   "metadata": {},
   "outputs": [],
   "source": [
    "#checking if the element is present in the list\n",
    "if 'cryptex' in l :\n",
    "  print(True)"
   ]
  },
  {
   "cell_type": "code",
   "execution_count": null,
   "id": "c6673516",
   "metadata": {},
   "outputs": [],
   "source": [
    "#inserting at certain position using insert\n",
    "l.insert(0, \"Hello janta\")\n",
    "print(l)"
   ]
  },
  {
   "cell_type": "code",
   "execution_count": null,
   "id": "dafbf05d",
   "metadata": {},
   "outputs": [],
   "source": [
    "#adding elements to the list\n",
    "l.append('Mumbai')\n",
    "print(l)"
   ]
  },
  {
   "cell_type": "code",
   "execution_count": null,
   "id": "3b8d6ef2",
   "metadata": {},
   "outputs": [],
   "source": [
    "#removing a particular element\n",
    "l.append('2022')\n",
    "l.remove('2022')\n",
    "print(l)"
   ]
  },
  {
   "cell_type": "code",
   "execution_count": null,
   "id": "9779d3b4",
   "metadata": {},
   "outputs": [],
   "source": [
    "#using pop\n",
    "l.pop(3)\n",
    "print(l)"
   ]
  },
  {
   "cell_type": "code",
   "execution_count": null,
   "id": "e4991413",
   "metadata": {},
   "outputs": [],
   "source": [
    "#Clear list\n",
    "l.clear()\n",
    "print(l)"
   ]
  },
  {
   "cell_type": "code",
   "execution_count": null,
   "id": "c81c9454",
   "metadata": {},
   "outputs": [],
   "source": [
    "#Sorting\n",
    "\n",
    "alpha = ['u','e','o','a','i']\n",
    "\n",
    "alpha.sort()\n",
    "print(alpha)\n",
    "\n",
    "alpha.sort(reverse = True)\n",
    "print(alpha)"
   ]
  },
  {
   "cell_type": "code",
   "execution_count": null,
   "id": "c169db58",
   "metadata": {},
   "outputs": [],
   "source": [
    "#making a copy of list\n",
    "copies = alpha.copy()\n",
    "copies.clear()\n",
    "print(alpha,copies)"
   ]
  },
  {
   "cell_type": "code",
   "execution_count": null,
   "id": "ae03bdf7",
   "metadata": {},
   "outputs": [],
   "source": [
    "copies = alpha\n",
    "copies.clear()\n",
    "print(alpha,copies)"
   ]
  },
  {
   "cell_type": "code",
   "execution_count": null,
   "id": "b4855417",
   "metadata": {},
   "outputs": [],
   "source": [
    "#joining two lists together\n",
    "beta = [1, 2, 3, 4]\n",
    "gamma = ['Hello', 'Hola', 'Namaste']\n",
    "alpha = ['i','j','k','l']\n",
    "\n",
    "omega = beta + gamma\n",
    "print(omega)"
   ]
  },
  {
   "cell_type": "code",
   "execution_count": null,
   "id": "6fbf4219",
   "metadata": {},
   "outputs": [],
   "source": [
    "beta.extend(alpha)\n",
    "print(beta)"
   ]
  },
  {
   "cell_type": "code",
   "execution_count": null,
   "id": "4b162e69",
   "metadata": {},
   "outputs": [],
   "source": [
    "for x in gamma:\n",
    "  beta.append(x)\n",
    "print(beta)\n"
   ]
  },
  {
   "cell_type": "markdown",
   "id": "98fd226c",
   "metadata": {},
   "source": [
    "## Tuple\n",
    "Tuples are used to store multiple items in a single variable. A tuple is a collection which is ordered and immutable. Tuples are written with round brackets."
   ]
  },
  {
   "cell_type": "code",
   "execution_count": null,
   "id": "fdf0e3d7",
   "metadata": {},
   "outputs": [],
   "source": [
    "t = ('CG', 'DSGT','DLCA', 'EM3','PCE')\n",
    "\n",
    "#length of the tuple\n",
    "print(len(t))\n",
    "\n",
    "#type\n",
    "print(type(t))\n",
    "\n",
    "#accessing the tuple\n",
    "print(tuple[-3])\n"
   ]
  },
  {
   "cell_type": "code",
   "execution_count": null,
   "id": "a97cd508",
   "metadata": {},
   "outputs": [],
   "source": [
    "#range\n",
    "print(t[1:5])\n",
    "print(t[:3])\n",
    "print(t[2:])"
   ]
  },
  {
   "cell_type": "code",
   "execution_count": null,
   "id": "7264fac1",
   "metadata": {},
   "outputs": [],
   "source": [
    "#joining 2 Tuples\n",
    "T = ('computer', 'it', 'extc', 'electrical')\n",
    "\n",
    "tuple_3 = t + T\n",
    "print(tuple_3)\n",
    "\n",
    "tuple_4 = T*2\n",
    "print(tuple_4)"
   ]
  },
  {
   "cell_type": "code",
   "execution_count": null,
   "id": "a51893d4",
   "metadata": {},
   "outputs": [],
   "source": [
    "t[0] = 'Babu Bisleri'"
   ]
  },
  {
   "attachments": {},
   "cell_type": "markdown",
   "id": "c331fa74",
   "metadata": {},
   "source": [
    "<img src =\"https://camo.githubusercontent.com/37ea45e0355acb5f0e4fdd67f6ff2555a1554e5768e1731dd91aae84541b970c/68747470733a2f2f7265732e636c6f7564696e6172792e636f6d2f70726163746963616c6465762f696d6167652f66657463682f732d2d34636d6c4935365f2d2d2f635f696d616767615f7363616c652c665f6175746f2c666c5f70726f67726573736976652c685f3432302c715f6175746f2c775f313030302f68747470733a2f2f6465762d746f2d75706c6f6164732e73332e616d617a6f6e6177732e636f6d2f75706c6f6164732f61727469636c65732f6c646e626f74306c3261306c646d356264696c772e706e67\" >"
   ]
  },
  {
   "cell_type": "markdown",
   "id": "cd3910d2",
   "metadata": {},
   "source": [
    "## Set\n",
    "Sets are used to store multiple items in a single variable. Set is one of 4 built-in data types in Python used to store collections of data, the other 3 are List, Tuple, and Dictionary, all with different qualities and usage.\n",
    "\n",
    "A set is a collection which is both unordered and unindexed. Sets are written with curly brackets."
   ]
  },
  {
   "cell_type": "code",
   "execution_count": null,
   "id": "96f4d6fa",
   "metadata": {},
   "outputs": [],
   "source": [
    "s = {\"Babu Rao\", \"Raju\", \"Ghanshyam\", \"Anuradha\", \"Kachra Seth\",\"Tiwari Bhai\" }\n",
    "\n",
    "print(s)\n",
    "\n",
    "#length of set\n",
    "print(len(s))\n",
    "\n",
    "#type\n",
    "print(type(s))\n"
   ]
  },
  {
   "cell_type": "code",
   "execution_count": null,
   "id": "48fc4667",
   "metadata": {},
   "outputs": [],
   "source": [
    "#accessing items\n",
    "for i in s:\n",
    "  print(i)"
   ]
  },
  {
   "cell_type": "code",
   "execution_count": null,
   "id": "e9129db6",
   "metadata": {},
   "outputs": [],
   "source": [
    "#adding new elements\n",
    "s.add('Phir Hera pheri')\n",
    "print(s)"
   ]
  },
  {
   "cell_type": "code",
   "execution_count": null,
   "id": "3af35724",
   "metadata": {},
   "outputs": [],
   "source": [
    "s = {'memes', '25 days', 'aye'}\n",
    "s.update(s)\n",
    "print(s)"
   ]
  },
  {
   "cell_type": "code",
   "execution_count": null,
   "id": "bb80ecb3",
   "metadata": {},
   "outputs": [],
   "source": [
    "#removing items\n",
    "s.remove('Anuradha')\n",
    "print(s)"
   ]
  },
  {
   "cell_type": "code",
   "execution_count": null,
   "id": "b03b6115",
   "metadata": {},
   "outputs": [],
   "source": [
    "#clearing the set\n",
    "S.clear()\n",
    "print(S)"
   ]
  },
  {
   "cell_type": "code",
   "execution_count": null,
   "id": "3e022eeb",
   "metadata": {},
   "outputs": [],
   "source": [
    "#operations on set\n",
    "set_1 = {'trump', 'narendra', 'Kim jun'}\n",
    "set_2 = {'Corrupt', 'Politics', 'Orange'}\n",
    "\n",
    "set_3 = set_1.union(set_2)\n",
    "# print(set_1)\n",
    "print(set_3)\n",
    "\n",
    "set_1.update(set_2)\n",
    "print(set_1)"
   ]
  },
  {
   "attachments": {},
   "cell_type": "markdown",
   "id": "05edad2b",
   "metadata": {},
   "source": [
    "<img src=\"https://camo.githubusercontent.com/3f1a29f83ca8432955bb9912799cddc6ab190c6a641c3d17a187279b848c7114/68747470733a2f2f696e6469616e6d656d6574656d706c617465732e636f6d2f77702d636f6e74656e742f75706c6f6164732f706869722d686572612d70686572692d616b736861792d77616974696e672d706f73652d2e6a7067\">"
   ]
  },
  {
   "cell_type": "markdown",
   "id": "8670a950",
   "metadata": {},
   "source": [
    "## Dictionary\n",
    "Dictionary items are ordered, changeable, and does not allow duplicates.\n",
    "\n",
    "Dictionary items are presented in key:value pairs, and can be referred to by using the key name."
   ]
  },
  {
   "cell_type": "code",
   "execution_count": null,
   "id": "ad68f6bd",
   "metadata": {},
   "outputs": [],
   "source": [
    "d = {\"Coding\" : 1, \"Debate\" : 2, \"Cryptex\" : 3, \"Introdcution to Engineering\" : 4, \"Acess\" : 5, \"Hacakthon\" : 6}\n",
    "\n",
    "print(d)\n",
    "\n",
    "print(len(d))\n",
    "\n",
    "print(type(d))"
   ]
  },
  {
   "cell_type": "code",
   "execution_count": null,
   "id": "3282d71b",
   "metadata": {},
   "outputs": [],
   "source": [
    "x = d.keys()\n",
    "\n",
    "y = d.values()\n",
    "\n",
    "print(x)\n",
    "\n",
    "print(y)"
   ]
  },
  {
   "cell_type": "code",
   "execution_count": null,
   "id": "492a7d3c",
   "metadata": {},
   "outputs": [],
   "source": [
    "d.update({\"LinkedIn\" : 7})\n",
    "print(d)"
   ]
  },
  {
   "cell_type": "code",
   "execution_count": null,
   "id": "9ff75a16",
   "metadata": {},
   "outputs": [],
   "source": [
    "del d[\"Debate\"]\n",
    "print(d)"
   ]
  },
  {
   "cell_type": "code",
   "execution_count": null,
   "id": "2ff1ea75",
   "metadata": {},
   "outputs": [],
   "source": [
    "d.clear()\n",
    "print(d)"
   ]
  },
  {
   "attachments": {},
   "cell_type": "markdown",
   "id": "e41fe7a2",
   "metadata": {},
   "source": [
    "<img src= \"https://camo.githubusercontent.com/28685f24bfd76d4fd54fe1627b0fb3de1f6cc89bf37cc22bbd4508e64f0cd830/68747470733a2f2f7777772e636f6465697462726f2e636f6d2f77702d636f6e74656e742f75706c6f6164732f323032302f30372f68696c6172696f75732d707974686f6e2d6d656d652d31302d6265666f72652d616e642d61667465722d636f64696e672e6a7067\">"
   ]
  },
  {
   "cell_type": "markdown",
   "id": "e21424fd",
   "metadata": {},
   "source": [
    "# Functions\n",
    "Instead of re-writing same lines of code over and over again, we put the code in a function and callback the function.\n",
    "In Python a function is defined using the def keyword"
   ]
  },
  {
   "cell_type": "code",
   "execution_count": 5,
   "id": "8d108de8",
   "metadata": {},
   "outputs": [
    {
     "name": "stdout",
     "output_type": "stream",
     "text": [
      "Input your name  : Shlok\n",
      "Happy Coding, Shlok\n"
     ]
    }
   ],
   "source": [
    "def function_first(a):\n",
    "  print(f\"Happy Coding, {a}\")\n",
    "\n",
    "abc = input(\"Input your name  : \")\n",
    "\n",
    "function_first(abc)"
   ]
  },
  {
   "cell_type": "markdown",
   "id": "889007ef",
   "metadata": {},
   "source": [
    "### Recursive Function\n",
    "Recursion is the process of defining something in terms of itself.\n",
    "\n",
    "In Python, we know that a function can call other functions. It is even possible for the function to call itself. These types of construct are termed as recursive functions."
   ]
  },
  {
   "cell_type": "code",
   "execution_count": null,
   "id": "bf878161",
   "metadata": {},
   "outputs": [],
   "source": [
    "# only for positive and non zero numbers\n",
    "print(\"Number to calculate factorial\")\n",
    "n = int(input())\n",
    "\n",
    "def factorial(x):\n",
    "  fact = 1\n",
    "  if x == 1:\n",
    "    return x\n",
    "  else :\n",
    "    fact = x * factorial(x-1)\n",
    "    return fact\n",
    "  \n",
    "print(factorial(n))"
   ]
  }
 ],
 "metadata": {
  "kernelspec": {
   "display_name": "Python 3 (ipykernel)",
   "language": "python",
   "name": "python3"
  },
  "language_info": {
   "codemirror_mode": {
    "name": "ipython",
    "version": 3
   },
   "file_extension": ".py",
   "mimetype": "text/x-python",
   "name": "python",
   "nbconvert_exporter": "python",
   "pygments_lexer": "ipython3",
   "version": "3.9.7"
  }
 },
 "nbformat": 4,
 "nbformat_minor": 5
}
