{
 "cells": [
  {
   "cell_type": "markdown",
   "id": "0842ce55",
   "metadata": {},
   "source": [
    "# Object Oriented Programming in Python (OOPS)\n",
    "\n",
    "In Python, object-oriented Programming (OOPs) uses objects and classes in programming. It aims to implement real-world entities like inheritance, polymorphisms, encapsulation, etc. in programming."
   ]
  },
  {
   "cell_type": "markdown",
   "id": "2442398e",
   "metadata": {},
   "source": [
    "<img src = \"https://camo.githubusercontent.com/be0e8ee805f56b0bab422c887211e26bbd607a2349a007748550415e46f6e309/68747470733a2f2f6d69726f2e6d656469756d2e636f6d2f6d61782f3530302f312a2d646d48596341697068705765366d307063642d41412e706e67\" alt = \"img\" >"
   ]
  },
  {
   "cell_type": "markdown",
   "id": "9466906a",
   "metadata": {},
   "source": [
    "## Classes and Objects"
   ]
  },
  {
   "cell_type": "markdown",
   "id": "e4404843",
   "metadata": {},
   "source": [
    "<img src = \"https://camo.githubusercontent.com/51aa2ae63a7d8a6a2bed9c803f4183aa2ae8f87a3cf7b35e479606494faa4bd6/68747470733a2f2f6d656469612e6765656b73666f726765656b732e6f72672f77702d636f6e74656e742f63646e2d75706c6f6164732f32303139303530313132313531332f696e6865726974616e63652e706e67\" alt = \"img\" >"
   ]
  },
  {
   "cell_type": "markdown",
   "id": "78ed4127",
   "metadata": {},
   "source": [
    "A class is a user-defined blueprint or prototype from which objects are created. Classes provide a means of bundling data and functionality together. Creating a new class creates a new type of object, allowing new instances of that type to be made. Each class instance can have attributes attached to it for maintaining its state. Class instances can also have methods (defined by their class) for modifying their state.\n",
    "\n",
    "An Object is an instance of a Class. A class is like a blueprint while an instance is a copy of the class with actual values."
   ]
  },
  {
   "cell_type": "markdown",
   "id": "8bef2c23",
   "metadata": {},
   "source": [
    "### Declaring Objects (Also called instantiating a class)\n",
    "When an object of a class is created, the class is said to be instantiated. All the instances share the attributes and the behavior of the class. But the values of those attributes, i.e. the state are unique for each object. A single class may have any number of instances.\n",
    "<br>\n",
    "### The self \n",
    "Class methods must have an extra first parameter in the method definition. We do not give a value for this parameter when we call the method, Python provides it.\n",
    "If we have a method that takes no arguments, then we still have to have one argument."
   ]
  },
  {
   "cell_type": "code",
   "execution_count": 1,
   "id": "0d32b590",
   "metadata": {},
   "outputs": [
    {
     "name": "stdout",
     "output_type": "stream",
     "text": [
      "Yeah I have good engine boom boom\n",
      "<class '__main__.Car'>\n"
     ]
    }
   ],
   "source": [
    "class Car:                  # class name should start with an uppercase letter and should be in camel case.\n",
    "    def engine(self):\n",
    "        print(\"Yeah I have good engine boom boom\") \n",
    "\n",
    "a = Car()\n",
    "a.engine()\n",
    "print(type((a)))"
   ]
  },
  {
   "cell_type": "code",
   "execution_count": 2,
   "id": "930ab312",
   "metadata": {},
   "outputs": [
    {
     "name": "stdout",
     "output_type": "stream",
     "text": [
      "bark\n",
      "6\n"
     ]
    }
   ],
   "source": [
    "class Dog: \n",
    "    def bark(self):\n",
    "        print(\"bark\") \n",
    "    def add_one(self,x):\n",
    "        return x+1\n",
    "\n",
    "d = Dog()\n",
    "d.bark()\n",
    "print(d.add_one(5))"
   ]
  },
  {
   "cell_type": "markdown",
   "id": "cf0643b9",
   "metadata": {},
   "source": [
    "## __init__ method\n",
    "The __init__ method is similar to constructors in C++ and Java. Constructors are used to initializing the object’s state. Like methods, a constructor also contains a collection of statements(i.e. instructions) that are executed at the time of Object creation. It runs as soon as an object of a class is instantiated. The method is useful to do any initialization you want to do with your object."
   ]
  },
  {
   "cell_type": "code",
   "execution_count": 3,
   "id": "2beb03ca",
   "metadata": {},
   "outputs": [
    {
     "name": "stdout",
     "output_type": "stream",
     "text": [
      "hahahah\n",
      "bark\n",
      "6\n"
     ]
    }
   ],
   "source": [
    "class Dog: \n",
    "    def __init__(self):\n",
    "        pass\n",
    "        print(\"hahahah\")  \n",
    "    def bark(self):\n",
    "        print(\"bark\") \n",
    "    def add_one(self,x):\n",
    "        return x+1\n",
    "\n",
    "d = Dog()\n",
    "d.bark()\n",
    "print(d.add_one(5))"
   ]
  },
  {
   "cell_type": "code",
   "execution_count": 4,
   "id": "6d3738c0",
   "metadata": {},
   "outputs": [
    {
     "name": "stdout",
     "output_type": "stream",
     "text": [
      "bark\n",
      "Tom\n"
     ]
    }
   ],
   "source": [
    "class Dog: \n",
    "    def __init__(self,name):\n",
    "        self.name = name\n",
    "    def bark(self):\n",
    "        print(\"bark\") \n",
    "\n",
    "d = Dog(\"Tom\")\n",
    "d.bark()\n",
    "print(d.name)"
   ]
  },
  {
   "cell_type": "code",
   "execution_count": 5,
   "id": "fca35d5d",
   "metadata": {},
   "outputs": [
    {
     "name": "stdout",
     "output_type": "stream",
     "text": [
      "7\n"
     ]
    }
   ],
   "source": [
    "class Dog: \n",
    "    def __init__(self,name,age):\n",
    "        self.name = name\n",
    "        self.age = age\n",
    "    def get_age(self) :\n",
    "        return self.age\n",
    "    def bark(self):\n",
    "        print(\"bark\") \n",
    "\n",
    "d = Dog(\"Tom\",7)\n",
    "print(d.get_age())"
   ]
  },
  {
   "cell_type": "code",
   "execution_count": 6,
   "id": "3e98ed7b",
   "metadata": {
    "scrolled": true
   },
   "outputs": [
    {
     "name": "stdout",
     "output_type": "stream",
     "text": [
      "88.0\n"
     ]
    }
   ],
   "source": [
    "class Student:\n",
    "    def __init__(self, name , age, grade):  \n",
    "        self.name = name \n",
    "        self.age = age \n",
    "        self.grade = grade \n",
    "    def get_grade(self) :\n",
    "        return self.grade\n",
    "    \n",
    "s1 = Student(\"abc\",19,99)\n",
    "s2 = Student(\"xyz\",20, 77)\n",
    "s3 = Student(\"pqr\", 18, 88)\n",
    "\n",
    "class Course :\n",
    "    def __init__(self, name , max_students) :\n",
    "        self.name = name\n",
    "        self.max_students = max_students\n",
    "        self.students = []\n",
    "    def add_student(self,student) :\n",
    "        if(len(self.students)< self.max_students) :\n",
    "            self.students.append(student)\n",
    "            return True\n",
    "        return False\n",
    "    def get_avg_grade(self) :\n",
    "        value = 0\n",
    "        for student  in self.students :\n",
    "            value += student.get_grade()\n",
    "        return value/len(self.students)\n",
    "    \n",
    "course = Course(\"Science\", 2)\n",
    "course.add_student(s1)\n",
    "course.add_student(s2)\n",
    "print(course.get_avg_grade())"
   ]
  },
  {
   "cell_type": "markdown",
   "id": "7a8daab7",
   "metadata": {},
   "source": [
    "##  Inheritance\n",
    "Inheritance provides the reusability of a code. We don’t have to write the same code again and again. Also, it allows us to add more features to a class without modifying it."
   ]
  },
  {
   "cell_type": "markdown",
   "id": "ed575263",
   "metadata": {},
   "source": [
    "<img src=\" https://raw.githubusercontent.com/CSI-FCRIT-Computer/Python/main/memes/unnamed.jpg\" alt = \"img\" >"
   ]
  },
  {
   "cell_type": "markdown",
   "id": "91cdba48",
   "metadata": {},
   "source": [
    "### Single Inheritence\n",
    "When a child class inherits from only one parent class, it is called single inheritance.\n",
    "\n",
    "<img src = \"https://camo.githubusercontent.com/b86bef339c3d2f5d8bcf1c79a53fc546ca7e98e59013f70dfbb2eb3c9b18282f/68747470733a2f2f69712e6f70656e67656e75732e6f72672f636f6e74656e742f696d616765732f323031392f30352f53696e676c652e706e67\" alt = \"img\">\n",
    "<br>\n",
    "Subclassing (Calling constructor of parent class)\n",
    "A child class needs to identify which class is its parent class. This can be done by mentioning the parent class name in the definition of the child class. \n",
    "\n",
    "Eg: class subclass_name (superclass_name): \n",
    "<br>\n",
    "<br>\n",
    "The super() function is used to give access to methods and properties of a parent or sibling class.\n",
    "The super() function returns an object that represents the parent class."
   ]
  },
  {
   "cell_type": "code",
   "execution_count": 7,
   "id": "5c0f99e8",
   "metadata": {},
   "outputs": [
    {
     "name": "stdout",
     "output_type": "stream",
     "text": [
      "I am Tom and I am 5 years old\n",
      "I am Billy and I am 3 years old and I am brown in color.\n",
      "MEOW\n"
     ]
    }
   ],
   "source": [
    "class Pet :\n",
    "    def __init__(self, name, age) :\n",
    "        self.name  = name \n",
    "        self.age = age\n",
    "    def show(self) :\n",
    "        print(f\"I am {self.name} and I am {self.age} years old\")\n",
    "class Dog(Pet) :\n",
    "    def speak(self) :\n",
    "        print(\"BARK\")\n",
    "        \n",
    "class Cat(Pet) :\n",
    "    def __init__(self,name, age, color) :\n",
    "        super().__init__(name, age)  #\n",
    "        self.color = color\n",
    "    def show(self) :\n",
    "        print(f\"I am {self.name} and I am {self.age} years old and I am {self.color} in color.\")\n",
    "    def speak(self) :\n",
    "        print(\"MEOW\")\n",
    "\n",
    "p = Pet(\"Tom\",5)\n",
    "p.show()\n",
    "c=  Cat(\"Billy\", 3, \"brown\")  \n",
    "c.show()\n",
    "c.speak()"
   ]
  },
  {
   "cell_type": "markdown",
   "id": "008a5c59",
   "metadata": {},
   "source": [
    "### Multiple Inheritence\n",
    "When a child class inherits from multiple parent classes, it is called multiple inheritances. \n",
    "<br>\n",
    "<img src = \"https://raw.githubusercontent.com/CSI-FCRIT-Computer/Python/main/memes/multipleinheritance.png\" alt = \"img\" >"
   ]
  },
  {
   "cell_type": "code",
   "execution_count": 8,
   "id": "127cd166",
   "metadata": {},
   "outputs": [
    {
     "name": "stdout",
     "output_type": "stream",
     "text": [
      "Engine sound goes vrooooooom\n",
      "honk honk honk\n",
      "Yeah I have aerodynamics\n",
      "I have speed yeah\n"
     ]
    }
   ],
   "source": [
    "class Car:\n",
    "    def Engine(self):\n",
    "        print(\"Engine sound goes vrooooooom\")\n",
    "\n",
    "    def Horn(self):\n",
    "        print(\"honk honk honk\")\n",
    "\n",
    "\n",
    "class Plane:\n",
    "    def Aero(self):\n",
    "        print(\"Yeah I have aerodynamics\")\n",
    "\n",
    "\n",
    "class BMW_M3(Car, Plane):\n",
    "    def Speed(self):\n",
    "        print(\"I have speed yeah\")\n",
    "\n",
    "\n",
    "obj_from_bmwm3 = BMW_M3()\n",
    "\n",
    "obj_from_bmwm3.Engine()\n",
    "obj_from_bmwm3.Horn()\n",
    "obj_from_bmwm3.Aero()\n",
    "obj_from_bmwm3.Speed()"
   ]
  }
 ],
 "metadata": {
  "kernelspec": {
   "display_name": "Python 3 (ipykernel)",
   "language": "python",
   "name": "python3"
  },
  "language_info": {
   "codemirror_mode": {
    "name": "ipython",
    "version": 3
   },
   "file_extension": ".py",
   "mimetype": "text/x-python",
   "name": "python",
   "nbconvert_exporter": "python",
   "pygments_lexer": "ipython3",
   "version": "3.10.0"
  }
 },
 "nbformat": 4,
 "nbformat_minor": 5
}
